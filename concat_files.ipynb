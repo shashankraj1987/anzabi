{
 "cells": [
  {
   "cell_type": "code",
   "execution_count": 25,
   "metadata": {},
   "outputs": [],
   "source": [
    "import pandas as pd\n",
    "import re\n",
    "import os"
   ]
  },
  {
   "cell_type": "code",
   "execution_count": 26,
   "metadata": {},
   "outputs": [],
   "source": [
    "skip_rows = {}\n",
    "skip_rows[\"Client Billing Descending\"] = 0\n",
    "skip_rows[\"Fee Breakdown by Dept and Fee Earner\"] = 3\n",
    "skip_rows[\"Fees Billed\"] = 3\n",
    "skip_rows[\"Fees by Worktype Pie Chart\"] = 3\n",
    "skip_rows[\"Fee Summary by Dept and Fee Earner\"] = 3\n",
    "skip_rows[\"Matters Opened by FE\"] = 3\n",
    "skip_rows[\"Matter Source of Business inc Matter Bills\"] = 0\n",
    "skip_rows[\"Payment Received Analysis\"] = 3\n",
    "skip_rows[\"Total Hours by Fee Earner-With Billings\"] = 0"
   ]
  },
  {
   "cell_type": "code",
   "execution_count": 27,
   "metadata": {},
   "outputs": [
    {
     "name": "stdout",
     "output_type": "stream",
     "text": [
      "3\n"
     ]
    }
   ],
   "source": [
    "print(skip_rows[\"Fee Breakdown by Dept and Fee Earner\"])"
   ]
  },
  {
   "cell_type": "code",
   "execution_count": 28,
   "metadata": {},
   "outputs": [],
   "source": [
    "def remove_cols(df):\n",
    "    cols = df.columns\n",
    "    new_cols = []\n",
    "\n",
    "    for x in cols:\n",
    "        txt_chk = re.compile(r'Textbox')\n",
    "        if txt_chk.search(x)== None:\n",
    "            new_cols.append(x)\n",
    "        else: \n",
    "            continue\n",
    "    \n",
    "    return(new_cols)"
   ]
  },
  {
   "cell_type": "code",
   "execution_count": 29,
   "metadata": {},
   "outputs": [],
   "source": [
    "def concat_files(loc):\n",
    "    file = \"\"\n",
    "    df = {}\n",
    "    files = os.listdir(loc)\n",
    "    lines = 0\n",
    "\n",
    "    for file in files:\n",
    "        if(file.endswith('.csv')):\n",
    "            df_final = pd.DataFrame()\n",
    "            df[file] = pd.read_csv((loc+\"/\"+file), skiprows=get_rows(skip_rows,file))\n",
    "            for key in df.keys():\n",
    "                df[key]=df[key][remove_cols(df[key])]\n",
    "                df_final = pd.concat([df_final,df[key]],ignore_index=True)\n",
    "            df_final.to_csv(loc+\"/\"+\"final.csv\",index=False)"
   ]
  },
  {
   "cell_type": "code",
   "execution_count": 30,
   "metadata": {},
   "outputs": [],
   "source": [
    "def get_rows(dictnry, match):\n",
    "    for val in skip_rows.keys():\n",
    "        if re.match(val,match):\n",
    "            #print (val)\n",
    "            #print(skip_rows[val])\n",
    "            return (skip_rows[val])"
   ]
  },
  {
   "cell_type": "code",
   "execution_count": 31,
   "metadata": {},
   "outputs": [],
   "source": [
    "file_loc = \"/home/shashankraj/Documents/DATA/extracted/\""
   ]
  },
  {
   "cell_type": "code",
   "execution_count": 32,
   "metadata": {},
   "outputs": [],
   "source": [
    "## All Folder Location \n",
    "\n",
    "dest_Fee_brkdwn_dept_fee_ernr = file_loc+\"Fee_brkdwn_dept_fee_ernr\"\n",
    "dest_Matter_Source_of_Business_inc_Matter_Bills = file_loc+\"Matter Source of Business inc Matter Bills (Bill Date)\"\n",
    "dest_Payment_Received_Analysis = file_loc+\"Payment Received Analysis\"\n",
    "dest_Client_BIlling = file_loc+\"Client_BIlling\"\n",
    "dest_Fee_Summary_by_Dept_and_Fee_Earner = file_loc+\"Fee Summary by Dept and Fee Earner\"\n",
    "dest_Matters_Opened_by_FE = file_loc+\"Matters Opened by FE\"\n",
    "dest_Total_Hours_by_Fee_Earner = file_loc+\"Total Hours by Fee Earner-With Billings All\"\n",
    "dest_Fees_Billed = file_loc+\"Fees_Billed\"\n",
    "#dest_Fees_by_worktype = file_loc+\"Fees_by_worktype\"\n",
    "#dest_billed = file_loc+\"billed\""
   ]
  },
  {
   "cell_type": "code",
   "execution_count": 33,
   "metadata": {},
   "outputs": [],
   "source": [
    "arr_all_loc = [dest_Fee_brkdwn_dept_fee_ernr,dest_Matter_Source_of_Business_inc_Matter_Bills,dest_Payment_Received_Analysis,dest_Client_BIlling,\n",
    "dest_Fee_Summary_by_Dept_and_Fee_Earner,dest_Matters_Opened_by_FE,dest_Total_Hours_by_Fee_Earner,dest_Fees_Billed]"
   ]
  },
  {
   "cell_type": "code",
   "execution_count": 34,
   "metadata": {},
   "outputs": [
    {
     "data": {
      "text/plain": [
       "3"
      ]
     },
     "execution_count": 34,
     "metadata": {},
     "output_type": "execute_result"
    }
   ],
   "source": [
    "get_rows(skip_rows,\"Fees Billed_01102021to21102021.csv\")\n"
   ]
  },
  {
   "cell_type": "code",
   "execution_count": 35,
   "metadata": {},
   "outputs": [],
   "source": [
    "# file = \"\"\n",
    "# df = {}\n",
    "# files = os.listdir(dest_Client_BIlling)\n",
    "# lines = 0\n",
    "# print(files)\n",
    "\n",
    "# for file in files:\n",
    "#     if(file.endswith('.csv')):\n",
    "#         df_final = pd.DataFrame()\n",
    "#         print(\"For file {}, will skip {} lines\".format(file,get_rows(skip_rows,file)))"
   ]
  },
  {
   "cell_type": "code",
   "execution_count": 36,
   "metadata": {},
   "outputs": [
    {
     "name": "stdout",
     "output_type": "stream",
     "text": [
      "Current Loc is  /home/shashankraj/Documents/DATA/extracted/Fee_brkdwn_dept_fee_ernr\n",
      "Current Loc is  /home/shashankraj/Documents/DATA/extracted/Matter Source of Business inc Matter Bills (Bill Date)\n",
      "Current Loc is  /home/shashankraj/Documents/DATA/extracted/Payment Received Analysis\n",
      "Current Loc is  /home/shashankraj/Documents/DATA/extracted/billed\n",
      "Current Loc is  /home/shashankraj/Documents/DATA/extracted/Client_BIlling\n",
      "Current Loc is  /home/shashankraj/Documents/DATA/extracted/Fee Summary by Dept and Fee Earner\n",
      "Current Loc is  /home/shashankraj/Documents/DATA/extracted/Matters Opened by FE\n",
      "Current Loc is  /home/shashankraj/Documents/DATA/extracted/Total Hours by Fee Earner-With Billings All\n",
      "Current Loc is  /home/shashankraj/Documents/DATA/extracted/Fees_Billed\n"
     ]
    }
   ],
   "source": [
    "# for loc in arr_all_loc:\n",
    "#     print(\"Current Loc is \",loc)\n",
    "#     concat_files(loc)"
   ]
  },
  {
   "cell_type": "code",
   "execution_count": 45,
   "metadata": {},
   "outputs": [],
   "source": [
    "concat_files(dest_Fee_brkdwn_dept_fee_ernr)"
   ]
  },
  {
   "cell_type": "code",
   "execution_count": 37,
   "metadata": {},
   "outputs": [],
   "source": [
    "## Find all the CSV files in the Folder and Add them to the CSV List \n",
    "\n",
    "# file = \"\"\n",
    "# df = {}\n",
    "# all_csvs = []\n",
    "# files = os.listdir(dest_Fee_brkdwn_dept_fee_ernr)\n",
    "\n",
    "# for file in files:\n",
    "#     if(file.endswith('.csv')):\n",
    "#         df[file] = pd.read_csv((dest_Fee_brkdwn_dept_fee_ernr+\"/\"+file), skiprows=3)"
   ]
  },
  {
   "cell_type": "code",
   "execution_count": 38,
   "metadata": {},
   "outputs": [],
   "source": [
    "# df.keys()\n"
   ]
  },
  {
   "cell_type": "code",
   "execution_count": 39,
   "metadata": {},
   "outputs": [],
   "source": [
    "# for key in df.keys():\n",
    "#     df[key]=df[key][remove_cols(df[key])]"
   ]
  },
  {
   "cell_type": "code",
   "execution_count": 40,
   "metadata": {},
   "outputs": [],
   "source": [
    "# df[\"Fee Breakdown by Dept and Fee Earner_25102021.csv\"].head()"
   ]
  },
  {
   "cell_type": "code",
   "execution_count": 41,
   "metadata": {},
   "outputs": [],
   "source": [
    "# df_final = pd.DataFrame()"
   ]
  },
  {
   "cell_type": "code",
   "execution_count": 42,
   "metadata": {},
   "outputs": [],
   "source": [
    "# for key in df.keys():\n",
    "#     df_final = pd.concat([df_final,df[key]],ignore_index=True)"
   ]
  },
  {
   "cell_type": "code",
   "execution_count": 43,
   "metadata": {},
   "outputs": [],
   "source": [
    "# df_final"
   ]
  },
  {
   "cell_type": "code",
   "execution_count": 44,
   "metadata": {},
   "outputs": [],
   "source": [
    "# df_final.to_csv(dest_Fee_brkdwn_dept_fee_ernr+\"/\"+\"final.csv\",index=False)"
   ]
  }
 ],
 "metadata": {
  "interpreter": {
   "hash": "efeb6664015e98725bbb5b8b87814de131c81a1fd666b7e6d11b4ba6e020f0b0"
  },
  "kernelspec": {
   "display_name": "Python 3.10.0 64-bit ('venv': venv)",
   "language": "python",
   "name": "python3"
  },
  "language_info": {
   "codemirror_mode": {
    "name": "ipython",
    "version": 3
   },
   "file_extension": ".py",
   "mimetype": "text/x-python",
   "name": "python",
   "nbconvert_exporter": "python",
   "pygments_lexer": "ipython3",
   "version": "3.10.0"
  },
  "orig_nbformat": 4
 },
 "nbformat": 4,
 "nbformat_minor": 2
}
