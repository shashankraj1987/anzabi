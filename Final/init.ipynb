{
 "cells": [
  {
   "cell_type": "code",
   "execution_count": 1,
   "metadata": {},
   "outputs": [],
   "source": [
    "import organize_files as of\n",
    "import pandas as pd\n",
    "import os\n",
    "from sqlalchemy import create_engine"
   ]
  },
  {
   "cell_type": "code",
   "execution_count": 2,
   "metadata": {},
   "outputs": [],
   "source": [
    "db = 'AnzaBI'\n",
    "db_user = 'sraj'\n",
    "db_password = 'password'\n",
    "db_host = 'localhost'\n",
    "db_port = '5432'\n",
    "db_schema = '\"Raw_Data\"'\n",
    "\n",
    "engine = create_engine(f'postgresql://{db_user}:{db_password}@{db_host}:{db_port}/{db}',echo=True,future=True)"
   ]
  },
  {
   "cell_type": "code",
   "execution_count": 3,
   "metadata": {},
   "outputs": [],
   "source": [
    "file_loc = r\"C:\\Users\\shash\\Offline_Docs\\Anza\\DATA_Dump\"\n",
    "log_file = file_loc+\"\\\\\"+\"Logs\"\n",
    "final_files = file_loc+\"\\\\\"+\"Final_Df\""
   ]
  },
  {
   "cell_type": "code",
   "execution_count": 4,
   "metadata": {},
   "outputs": [],
   "source": [
    "schema_ref = {\n",
    "    \"Client Billing Descending\":\"client_billing\",\"Fee Breakdown by Dept and Fee Earner\":\"fee_brkdn_dept_fe\",\"Fee Summary by Dept and Fee Earner\":\"fee_smry_dept_fe\",\n",
    "    \"Fees Billed\":\"fees_billed\",\"Matter Source of Business inc Matter Bills (Bill Date)\":\"mttr_src_ref\",\"Total Hours by Fee Earner-With Billings All\":\"tot_hrs_by_fe\",\n",
    "    \"Matters Opened by FE\":\"mtrs_by_fe\",\"Payment Received Analysis\":\"pmt_rcv_analysis\"}"
   ]
  },
  {
   "cell_type": "code",
   "execution_count": 5,
   "metadata": {},
   "outputs": [
    {
     "name": "stdout",
     "output_type": "stream",
     "text": [
      "Moving category [client_billing]\n",
      "Moving category [fee_brkdn_dept_fe]\n",
      "Moving category [fee_summ_dept_fe]\n",
      "Moving category [fees_billed]\n",
      "Moving category [matter_src]\n",
      "Moving category [matter_opened]\n",
      "Moving category [payment_rcv]\n",
      "Moving category [tot_hrs_fe]\n",
      "\n",
      "Log Files are located at C:\\Users\\shash\\Offline_Docs\\Anza\\DATA_Dump\\Logs\n"
     ]
    }
   ],
   "source": [
    "dict_list = of.categorize_files(file_loc)\n",
    "all_files = of.concat_files(dict_list, file_loc, log_file)\n",
    "\n",
    "print(f'\\nLog Files are located at {log_file}')"
   ]
  },
  {
   "cell_type": "code",
   "execution_count": 7,
   "metadata": {},
   "outputs": [
    {
     "name": "stdout",
     "output_type": "stream",
     "text": [
      "2022-03-17 10:50:20,802 INFO sqlalchemy.engine.Engine select pg_catalog.version()\n",
      "2022-03-17 10:50:20,803 INFO sqlalchemy.engine.Engine [raw sql] {}\n",
      "2022-03-17 10:50:20,804 INFO sqlalchemy.engine.Engine select current_schema()\n",
      "2022-03-17 10:50:20,805 INFO sqlalchemy.engine.Engine [raw sql] {}\n",
      "2022-03-17 10:50:20,807 INFO sqlalchemy.engine.Engine show standard_conforming_strings\n",
      "2022-03-17 10:50:20,807 INFO sqlalchemy.engine.Engine [raw sql] {}\n",
      "2022-03-17 10:50:20,809 INFO sqlalchemy.engine.Engine BEGIN (implicit)\n",
      "2022-03-17 10:50:20,809 INFO sqlalchemy.engine.Engine select relname from pg_class c join pg_namespace n on n.oid=c.relnamespace where n.nspname=%(schema)s and relname=%(name)s\n",
      "2022-03-17 10:50:20,810 INFO sqlalchemy.engine.Engine [generated in 0.00102s] {'schema': 'Raw_Data', 'name': 'client_billing'}\n",
      "2022-03-17 10:50:20,812 INFO sqlalchemy.engine.Engine ROLLBACK\n",
      "2022-03-17 10:50:20,814 INFO sqlalchemy.engine.Engine BEGIN (implicit)\n",
      "2022-03-17 10:50:20,818 INFO sqlalchemy.engine.Engine INSERT INTO \"Raw_Data\".client_billing (client_surname1, total_profit1, total_bill_amount, total_profit, total_bill_amount1, date_added) VALUES (%(client_surname1)s, %(total_profit1)s, %(total_bill_amount)s, %(total_profit)s, %(total_bill_amount1)s, %(date_added)s)\n",
      "2022-03-17 10:50:20,819 INFO sqlalchemy.engine.Engine [generated in 0.00280s] ({'client_surname1': 'Newstone 40 Ducks Hill LLP', 'total_profit1': 2600.0, 'total_bill_amount': 3162.0, 'total_profit': 8975.0, 'total_bill_amount1': 10980.0, 'date_added': datetime.datetime(2022, 3, 1, 0, 0)}, {'client_surname1': 'Cobley Ross', 'total_profit1': 2590.0, 'total_bill_amount': 3192.0, 'total_profit': 8975.0, 'total_bill_amount1': 10980.0, 'date_added': datetime.datetime(2022, 3, 1, 0, 0)}, {'client_surname1': 'Patel Dharmen Gamanbhai', 'total_profit1': 2485.0, 'total_bill_amount': 3066.0, 'total_profit': 8975.0, 'total_bill_amount1': 10980.0, 'date_added': datetime.datetime(2022, 3, 1, 0, 0)}, {'client_surname1': 'Cengiz Peri', 'total_profit1': 1300.0, 'total_bill_amount': 1560.0, 'total_profit': 8975.0, 'total_bill_amount1': 10980.0, 'date_added': datetime.datetime(2022, 3, 1, 0, 0)}, {'client_surname1': 'Yildirim Deniz', 'total_profit1': 1350.0, 'total_bill_amount': 1662.0, 'total_profit': 3835.0, 'total_bill_amount1': 6403.0, 'date_added': datetime.datetime(2022, 3, 2, 0, 0)}, {'client_surname1': 'Tooth Rosa Maria', 'total_profit1': 1250.0, 'total_bill_amount': 1542.0, 'total_profit': 3835.0, 'total_bill_amount1': 6403.0, 'date_added': datetime.datetime(2022, 3, 2, 0, 0)}, {'client_surname1': 'Bonfante Elsie', 'total_profit1': 1235.0, 'total_bill_amount': 1500.0, 'total_profit': 3835.0, 'total_bill_amount1': 6403.0, 'date_added': datetime.datetime(2022, 3, 2, 0, 0)}, {'client_surname1': 'Rodrigues Caroline Gomes', 'total_profit1': 0.0, 'total_bill_amount': 390.0, 'total_profit': 3835.0, 'total_bill_amount1': 6403.0, 'date_added': datetime.datetime(2022, 3, 2, 0, 0)}  ... displaying 10 of 197 total bound parameter sets ...  {'client_surname1': 'Shariff Noordin Sultanali', 'total_profit1': 190.0, 'total_bill_amount': 229.0, 'total_profit': 7770.0, 'total_bill_amount1': 10464.0, 'date_added': datetime.datetime(2022, 3, 16, 0, 0)}, {'client_surname1': 'Rusi Erdogan Hasan', 'total_profit1': 0.0, 'total_bill_amount': 42.0, 'total_profit': 7770.0, 'total_bill_amount1': 10464.0, 'date_added': datetime.datetime(2022, 3, 16, 0, 0)})\n",
      "2022-03-17 10:50:20,833 INFO sqlalchemy.engine.Engine COMMIT\n",
      "Processed File [Client Billing Descending]\n",
      "2022-03-17 10:50:20,840 INFO sqlalchemy.engine.Engine BEGIN (implicit)\n",
      "2022-03-17 10:50:20,841 INFO sqlalchemy.engine.Engine select relname from pg_class c join pg_namespace n on n.oid=c.relnamespace where n.nspname=%(schema)s and relname=%(name)s\n",
      "2022-03-17 10:50:20,842 INFO sqlalchemy.engine.Engine [cached since 0.03252s ago] {'schema': 'Raw_Data', 'name': 'fee_brkdn_dept_fe'}\n",
      "2022-03-17 10:50:20,843 INFO sqlalchemy.engine.Engine ROLLBACK\n",
      "2022-03-17 10:50:20,845 INFO sqlalchemy.engine.Engine BEGIN (implicit)\n",
      "2022-03-17 10:50:20,847 INFO sqlalchemy.engine.Engine INSERT INTO \"Raw_Data\".fee_brkdn_dept_fe (matter_dept_dept_name, fee_earner_reference, matter_ref, profit, non_vatable_disbursements, vatable_disbursements, vat_amount, bill_amount, wip_cost_billed, date_added) VALUES (%(matter_dept_dept_name)s, %(fee_earner_reference)s, %(matter_ref)s, %(profit)s, %(non_vatable_disbursements)s, %(vatable_disbursements)s, %(vat_amount)s, %(bill_amount)s, %(wip_cost_billed)s, %(date_added)s)\n",
      "2022-03-17 10:50:20,849 INFO sqlalchemy.engine.Engine [generated in 0.00186s] ({'matter_dept_dept_name': 'Conveyancing Commercial', 'fee_earner_reference': 'HEH', 'matter_ref': '079906-0001', 'profit': 1300.0, 'non_vatable_disbursements': 0.0, 'vatable_disbursements': 0.0, 'vat_amount': 260.0, 'bill_amount': 1560.0, 'wip_cost_billed': 125.05, 'date_added': datetime.datetime(2022, 3, 1, 0, 0)}, {'matter_dept_dept_name': 'Conveyancing Commercial', 'fee_earner_reference': 'TKC', 'matter_ref': '053461-0023', 'profit': 2600.0, 'non_vatable_disbursements': 0.0, 'vatable_disbursements': 35.0, 'vat_amount': 527.0, 'bill_amount': 3162.0, 'wip_cost_billed': 3054.0, 'date_added': datetime.datetime(2022, 3, 1, 0, 0)}, {'matter_dept_dept_name': 'Conveyancing Residential', 'fee_earner_reference': 'GB', 'matter_ref': '078279-0002', 'profit': 1145.0, 'non_vatable_disbursements': 0.0, 'vatable_disbursements': 35.0, 'vat_amount': 236.0, 'bill_amount': 1416.0, 'wip_cost_billed': 0.0, 'date_added': datetime.datetime(2022, 3, 1, 0, 0)}, {'matter_dept_dept_name': 'Conveyancing Residential', 'fee_earner_reference': 'GB', 'matter_ref': '078279-0003', 'profit': 1145.0, 'non_vatable_disbursements': 0.0, 'vatable_disbursements': 35.0, 'vat_amount': 236.0, 'bill_amount': 1416.0, 'wip_cost_billed': 0.0, 'date_added': datetime.datetime(2022, 3, 1, 0, 0)}, {'matter_dept_dept_name': 'Conveyancing Residential', 'fee_earner_reference': 'GB', 'matter_ref': '078279-0003', 'profit': 1145.0, 'non_vatable_disbursements': 0.0, 'vatable_disbursements': 35.0, 'vat_amount': 236.0, 'bill_amount': 1416.0, 'wip_cost_billed': 0.0, 'date_added': datetime.datetime(2022, 3, 1, 0, 0)}, {'matter_dept_dept_name': 'Conveyancing Residential', 'fee_earner_reference': 'GB', 'matter_ref': '078279-0003', 'profit': 1445.0, 'non_vatable_disbursements': 0.0, 'vatable_disbursements': 35.0, 'vat_amount': 296.0, 'bill_amount': 1776.0, 'wip_cost_billed': 0.0, 'date_added': datetime.datetime(2022, 3, 1, 0, 0)}, {'matter_dept_dept_name': 'Conveyancing Residential', 'fee_earner_reference': 'ZM', 'matter_ref': '050537-0002', 'profit': 1345.0, 'non_vatable_disbursements': 0.0, 'vatable_disbursements': 35.0, 'vat_amount': 276.0, 'bill_amount': 1656.0, 'wip_cost_billed': 1339.95, 'date_added': datetime.datetime(2022, 3, 1, 0, 0)}, {'matter_dept_dept_name': 'Conveyancing Residential', 'fee_earner_reference': 'ZM', 'matter_ref': '050537-0003', 'profit': 11400.0, 'non_vatable_disbursements': 0.0, 'vatable_disbursements': 35.0, 'vat_amount': 2287.0, 'bill_amount': 13722.0, 'wip_cost_billed': 512.48, 'date_added': datetime.datetime(2022, 3, 1, 0, 0)}  ... displaying 10 of 213 total bound parameter sets ...  {'matter_dept_dept_name': 'Conveyancing Residential', 'fee_earner_reference': 'MC', 'matter_ref': '080852-0001', 'profit': 1940.0, 'non_vatable_disbursements': 0.0, 'vatable_disbursements': 35.0, 'vat_amount': 395.0, 'bill_amount': 2370.0, 'wip_cost_billed': 3054.06, 'date_added': datetime.datetime(2022, 3, 16, 0, 0)}, {'matter_dept_dept_name': 'Conveyancing Residential', 'fee_earner_reference': 'RZ', 'matter_ref': '082354-0001', 'profit': 1600.0, 'non_vatable_disbursements': 0.0, 'vatable_disbursements': 35.0, 'vat_amount': 327.0, 'bill_amount': 1962.0, 'wip_cost_billed': 1705.0, 'date_added': datetime.datetime(2022, 3, 16, 0, 0)})\n",
      "2022-03-17 10:50:20,860 INFO sqlalchemy.engine.Engine COMMIT\n",
      "Processed File [Fee Breakdown by Dept and Fee Earner]\n",
      "2022-03-17 10:50:20,864 INFO sqlalchemy.engine.Engine BEGIN (implicit)\n",
      "2022-03-17 10:50:20,865 INFO sqlalchemy.engine.Engine select relname from pg_class c join pg_namespace n on n.oid=c.relnamespace where n.nspname=%(schema)s and relname=%(name)s\n",
      "2022-03-17 10:50:20,865 INFO sqlalchemy.engine.Engine [cached since 0.05711s ago] {'schema': 'Raw_Data', 'name': 'fee_smry_dept_fe'}\n",
      "2022-03-17 10:50:20,868 INFO sqlalchemy.engine.Engine ROLLBACK\n",
      "2022-03-17 10:50:20,870 INFO sqlalchemy.engine.Engine BEGIN (implicit)\n",
      "2022-03-17 10:50:20,871 INFO sqlalchemy.engine.Engine INSERT INTO \"Raw_Data\".fee_smry_dept_fe (matter_dept_dept_name, fee_earner_reference1, profit, date_added) VALUES (%(matter_dept_dept_name)s, %(fee_earner_reference1)s, %(profit)s, %(date_added)s)\n",
      "2022-03-17 10:50:20,872 INFO sqlalchemy.engine.Engine [generated in 0.00114s] ({'matter_dept_dept_name': 'Conveyancing Commercial', 'fee_earner_reference1': 'HEH', 'profit': 1300.0, 'date_added': datetime.datetime(2022, 3, 1, 0, 0)}, {'matter_dept_dept_name': 'Conveyancing Commercial', 'fee_earner_reference1': 'TKC', 'profit': 2600.0, 'date_added': datetime.datetime(2022, 3, 1, 0, 0)}, {'matter_dept_dept_name': 'Conveyancing Residential', 'fee_earner_reference1': 'GB', 'profit': 2590.0, 'date_added': datetime.datetime(2022, 3, 1, 0, 0)}, {'matter_dept_dept_name': 'Conveyancing Residential', 'fee_earner_reference1': 'ZM', 'profit': 2485.0, 'date_added': datetime.datetime(2022, 3, 1, 0, 0)}, {'matter_dept_dept_name': 'Conveyancing Commercial', 'fee_earner_reference1': 'HEH', 'profit': 2585.0, 'date_added': datetime.datetime(2022, 3, 2, 0, 0)}, {'matter_dept_dept_name': 'Matrimonial/Family', 'fee_earner_reference1': 'MR', 'profit': 0.0, 'date_added': datetime.datetime(2022, 3, 2, 0, 0)}, {'matter_dept_dept_name': 'Conveyancing Residential', 'fee_earner_reference1': 'LG', 'profit': 1250.0, 'date_added': datetime.datetime(2022, 3, 2, 0, 0)}, {'matter_dept_dept_name': 'Conveyancing Residential', 'fee_earner_reference1': 'TKC', 'profit': 0.0, 'date_added': datetime.datetime(2022, 3, 2, 0, 0)}  ... displaying 10 of 89 total bound parameter sets ...  {'matter_dept_dept_name': 'Conveyancing Residential', 'fee_earner_reference1': 'MC', 'profit': 1940.0, 'date_added': datetime.datetime(2022, 3, 16, 0, 0)}, {'matter_dept_dept_name': 'Conveyancing Residential', 'fee_earner_reference1': 'RZ', 'profit': 1600.0, 'date_added': datetime.datetime(2022, 3, 16, 0, 0)})\n",
      "2022-03-17 10:50:20,875 INFO sqlalchemy.engine.Engine COMMIT\n",
      "Processed File [Fee Summary by Dept and Fee Earner]\n",
      "2022-03-17 10:50:20,886 INFO sqlalchemy.engine.Engine BEGIN (implicit)\n",
      "2022-03-17 10:50:20,887 INFO sqlalchemy.engine.Engine select relname from pg_class c join pg_namespace n on n.oid=c.relnamespace where n.nspname=%(schema)s and relname=%(name)s\n",
      "2022-03-17 10:50:20,888 INFO sqlalchemy.engine.Engine [cached since 0.07877s ago] {'schema': 'Raw_Data', 'name': 'fees_billed'}\n",
      "2022-03-17 10:50:20,889 INFO sqlalchemy.engine.Engine ROLLBACK\n",
      "2022-03-17 10:50:20,893 INFO sqlalchemy.engine.Engine BEGIN (implicit)\n",
      "2022-03-17 10:50:20,896 INFO sqlalchemy.engine.Engine INSERT INTO \"Raw_Data\".fees_billed (feeref, month, splitamount, date_added) VALUES (%(feeref)s, %(month)s, %(splitamount)s, %(date_added)s)\n",
      "2022-03-17 10:50:20,897 INFO sqlalchemy.engine.Engine [generated in 0.00149s] ({'feeref': 'AB', 'month': 'Mar 2022', 'splitamount': 0.0, 'date_added': datetime.datetime(2022, 3, 1, 0, 0)}, {'feeref': 'AL', 'month': 'Mar 2022', 'splitamount': 0.0, 'date_added': datetime.datetime(2022, 3, 1, 0, 0)}, {'feeref': 'GB', 'month': 'Mar 2022', 'splitamount': 1890.0, 'date_added': datetime.datetime(2022, 3, 1, 0, 0)}, {'feeref': 'HEH', 'month': 'Mar 2022', 'splitamount': 1300.0, 'date_added': datetime.datetime(2022, 3, 1, 0, 0)}, {'feeref': 'HY', 'month': 'Mar 2022', 'splitamount': 0.0, 'date_added': datetime.datetime(2022, 3, 1, 0, 0)}, {'feeref': 'JXL', 'month': 'Mar 2022', 'splitamount': 700.0, 'date_added': datetime.datetime(2022, 3, 1, 0, 0)}, {'feeref': 'KT', 'month': 'Mar 2022', 'splitamount': 0.0, 'date_added': datetime.datetime(2022, 3, 1, 0, 0)}, {'feeref': 'LGB', 'month': 'Mar 2022', 'splitamount': 0.0, 'date_added': datetime.datetime(2022, 3, 1, 0, 0)}  ... displaying 10 of 188 total bound parameter sets ...  {'feeref': 'SUN', 'month': 'Mar 2022', 'splitamount': 0.0, 'date_added': datetime.datetime(2022, 3, 16, 0, 0)}, {'feeref': 'TM', 'month': 'Mar 2022', 'splitamount': 0.0, 'date_added': datetime.datetime(2022, 3, 16, 0, 0)})\n",
      "2022-03-17 10:50:20,903 INFO sqlalchemy.engine.Engine COMMIT\n",
      "Processed File [Fees Billed]\n",
      "2022-03-17 10:50:20,910 INFO sqlalchemy.engine.Engine BEGIN (implicit)\n",
      "2022-03-17 10:50:20,911 INFO sqlalchemy.engine.Engine select relname from pg_class c join pg_namespace n on n.oid=c.relnamespace where n.nspname=%(schema)s and relname=%(name)s\n",
      "2022-03-17 10:50:20,912 INFO sqlalchemy.engine.Engine [cached since 0.1028s ago] {'schema': 'Raw_Data', 'name': 'mttr_src_ref'}\n",
      "2022-03-17 10:50:20,913 INFO sqlalchemy.engine.Engine ROLLBACK\n",
      "2022-03-17 10:50:20,917 INFO sqlalchemy.engine.Engine BEGIN (implicit)\n",
      "2022-03-17 10:50:20,920 INFO sqlalchemy.engine.Engine INSERT INTO \"Raw_Data\".mttr_src_ref (fee_earner_reference1, business_source1, client_name1, matter_ref, matter_description, bill_date, bill_ref, bill_amount, date_added) VALUES (%(fee_earner_reference1)s, %(business_source1)s, %(client_name1)s, %(matter_ref)s, %(matter_description)s, %(bill_date)s, %(bill_ref)s, %(bill_amount)s, %(date_added)s)\n",
      "2022-03-17 10:50:20,921 INFO sqlalchemy.engine.Engine [generated in 0.00281s] ({'fee_earner_reference1': 'GB', 'business_source1': 'Employee - JXL', 'client_name1': 'Mr Ross Cobley', 'matter_ref': '078279-0002', 'matter_description': 'Sale of 71 Washington Street Hanover Brighton East Sussex BN2 9SR', 'bill_date': '01/03/2022', 'bill_ref': 26543.0, 'bill_amount': 1145.0, 'date_added': datetime.datetime(2022, 3, 1, 0, 0)}, {'fee_earner_reference1': 'GB', 'business_source1': 'Employee - JXL', 'client_name1': 'Mr Ross Cobley', 'matter_ref': '078279-0003', 'matter_description': 'Purchase of 242 Ditchling Road  Brighton BN1 6JF', 'bill_date': '01/03/2022', 'bill_ref': 26541.0, 'bill_amount': 1145.0, 'date_added': datetime.datetime(2022, 3, 1, 0, 0)}, {'fee_earner_reference1': 'GB', 'business_source1': 'Employee - JXL', 'client_name1': 'Mr Ross Cobley', 'matter_ref': '078279-0003', 'matter_description': 'Purchase of 242 Ditchling Road  Brighton BN1 6JF', 'bill_date': '01/03/2022', 'bill_ref': 26541.0, 'bill_amount': 1145.0, 'date_added': datetime.datetime(2022, 3, 1, 0, 0)}, {'fee_earner_reference1': 'GB', 'business_source1': 'Employee - JXL', 'client_name1': 'Mr Ross Cobley', 'matter_ref': '078279-0003', 'matter_description': 'Purchase of 242 Ditchling Road  Brighton BN1 6JF', 'bill_date': '01/03/2022', 'bill_ref': 26546.0, 'bill_amount': 1445.0, 'date_added': datetime.datetime(2022, 3, 1, 0, 0)}, {'fee_earner_reference1': 'HEH', 'business_source1': 'Existing Client - Bowling & Co', 'client_name1': 'Mr Peri Cengiz', 'matter_ref': '079906-0001', 'matter_description': 'Sale of 32 High Street Abbots Langley Hertfordshire WD5 0AR', 'bill_date': '01/03/2022', 'bill_ref': 26539.0, 'bill_amount': 1300.0, 'date_added': datetime.datetime(2022, 3, 1, 0, 0)}, {'fee_earner_reference1': 'TKC', 'business_source1': 'Employee - DDR', 'client_name1': 'Newstone 40 Ducks Hill LLP', 'matter_ref': '053461-0023', 'matter_description': 'Refinance of 40 Ducks Hill', 'bill_date': '01/03/2022', 'bill_ref': 26544.0, 'bill_amount': 2600.0, 'date_added': datetime.datetime(2022, 3, 1, 0, 0)}, {'fee_earner_reference1': 'ZM', 'business_source1': 'Existing Client - Bowling & Co', 'client_name1': 'Mr Dharmen Gamanbhai Patel', 'matter_ref': '050537-0002', 'matter_description': 'Purchase of 85 Elizabeth Avenue Little Chalfont Buckinghamshire HP6 6RQ', 'bill_date': '01/03/2022', 'bill_ref': 26542.0, 'bill_amount': 1345.0, 'date_added': datetime.datetime(2022, 3, 1, 0, 0)}, {'fee_earner_reference1': 'ZM', 'business_source1': 'Existing Client - Bowling & Co', 'client_name1': 'Mr Dharmen Gamanbhai Patel', 'matter_ref': '050537-0003', 'matter_description': 'Re-Mortgage of 127 Northridge Way Hemel Hempstead Hertfordshire HP1 2AG', 'bill_date': '01/03/2022', 'bill_ref': 26540.0, 'bill_amount': 11400.0, 'date_added': datetime.datetime(2022, 3, 1, 0, 0)}  ... displaying 10 of 213 total bound parameter sets ...  {'fee_earner_reference1': 'MC', 'business_source1': 'Introducer - Other ', 'client_name1': 'Mr Darren Matthews', 'matter_ref': '080852-0001', 'matter_description': 'Sale of 35 Baroque Gardens Mary Rose Square London SE16 7EL', 'bill_date': '16/03/2022', 'bill_ref': 26745.0, 'bill_amount': 1940.0, 'date_added': datetime.datetime(2022, 3, 16, 0, 0)}, {'fee_earner_reference1': 'RZ', 'business_source1': 'Existing Client - Bowling & Co', 'client_name1': 'Mr Daniel Paiser', 'matter_ref': '082354-0001', 'matter_description': 'Purchase of Flat 6 Tenby House 4A Hamilton Road London W5 2EQ', 'bill_date': '16/03/2022', 'bill_ref': 26746.0, 'bill_amount': 1600.0, 'date_added': datetime.datetime(2022, 3, 16, 0, 0)})\n",
      "2022-03-17 10:50:20,934 INFO sqlalchemy.engine.Engine COMMIT\n",
      "Processed File [Matter Source of Business inc Matter Bills (Bill Date)]\n",
      "2022-03-17 10:50:20,941 INFO sqlalchemy.engine.Engine BEGIN (implicit)\n",
      "2022-03-17 10:50:20,942 INFO sqlalchemy.engine.Engine select relname from pg_class c join pg_namespace n on n.oid=c.relnamespace where n.nspname=%(schema)s and relname=%(name)s\n",
      "2022-03-17 10:50:20,942 INFO sqlalchemy.engine.Engine [cached since 0.1333s ago] {'schema': 'Raw_Data', 'name': 'mtrs_by_fe'}\n",
      "2022-03-17 10:50:20,944 INFO sqlalchemy.engine.Engine ROLLBACK\n",
      "2022-03-17 10:50:20,946 INFO sqlalchemy.engine.Engine BEGIN (implicit)\n",
      "2022-03-17 10:50:20,947 INFO sqlalchemy.engine.Engine INSERT INTO \"Raw_Data\".mtrs_by_fe (fee_earner_full_name1, business_source, work_type_description1, matter_ref, date_added) VALUES (%(fee_earner_full_name1)s, %(business_source)s, %(work_type_description1)s, %(matter_ref)s, %(date_added)s)\n",
      "2022-03-17 10:50:20,948 INFO sqlalchemy.engine.Engine [generated in 0.00116s] ({'fee_earner_full_name1': 'Miss Mabel Chiu', 'business_source': 'Employee - MC', 'work_type_description1': '51-Res-F/hold Auction Purchase', 'matter_ref': 1.0, 'date_added': datetime.datetime(2022, 3, 1, 0, 0)}, {'fee_earner_full_name1': 'Mr Huseyin Enver Huseyin', 'business_source': 'Employee - HEH', 'work_type_description1': 'Commercial Conveyancing', 'matter_ref': 2.0, 'date_added': datetime.datetime(2022, 3, 1, 0, 0)}, {'fee_earner_full_name1': 'Mr Huseyin Enver Huseyin', 'business_source': 'Existing Client - Bowling & Co', 'work_type_description1': 'Conveyancing-General', 'matter_ref': 2.0, 'date_added': datetime.datetime(2022, 3, 1, 0, 0)}, {'fee_earner_full_name1': 'Mr Jeremy Lewis', 'business_source': 'Employee - JXL', 'work_type_description1': '05-Res-F/hold Purchase', 'matter_ref': 2.0, 'date_added': datetime.datetime(2022, 3, 1, 0, 0)}, {'fee_earner_full_name1': 'Mr Jeremy Lewis', 'business_source': 'Estate Agent - Bairstow Eves - Stratford', 'work_type_description1': '02-Res-F/Hold Sale', 'matter_ref': 2.0, 'date_added': datetime.datetime(2022, 3, 1, 0, 0)}, {'fee_earner_full_name1': 'Mr Martin Real', 'business_source': 'Charity - Barnet OSS', 'work_type_description1': 'FFF Private Law FPC / County Court', 'matter_ref': 3.0, 'date_added': datetime.datetime(2022, 3, 1, 0, 0)}, {'fee_earner_full_name1': 'Mr Martin Real', 'business_source': 'Charity - Victim Support Tower Hamlets', 'work_type_description1': 'FFF Private Law FPC / County Court', 'matter_ref': 3.0, 'date_added': datetime.datetime(2022, 3, 1, 0, 0)}, {'fee_earner_full_name1': 'Mr Martin Real', 'business_source': 'Internet - Website - Direct email', 'work_type_description1': 'FFF Private Law FPC / County Court', 'matter_ref': 3.0, 'date_added': datetime.datetime(2022, 3, 1, 0, 0)}  ... displaying 10 of 95 total bound parameter sets ...  {'fee_earner_full_name1': 'Mr Martin Real', 'business_source': 'Internet - Website - Direct email', 'work_type_description1': 'FFF Private Law FPC / County Court', 'matter_ref': 6.0, 'date_added': datetime.datetime(2022, 3, 16, 0, 0)}, {'fee_earner_full_name1': 'Ms Manal Fouad', 'business_source': 'Employee - DDR', 'work_type_description1': 'Miscellaneous', 'matter_ref': 1.0, 'date_added': datetime.datetime(2022, 3, 16, 0, 0)})\n",
      "2022-03-17 10:50:20,954 INFO sqlalchemy.engine.Engine COMMIT\n",
      "Processed File [Matters Opened by FE]\n",
      "2022-03-17 10:50:20,965 INFO sqlalchemy.engine.Engine BEGIN (implicit)\n",
      "2022-03-17 10:50:20,965 INFO sqlalchemy.engine.Engine select relname from pg_class c join pg_namespace n on n.oid=c.relnamespace where n.nspname=%(schema)s and relname=%(name)s\n",
      "2022-03-17 10:50:20,966 INFO sqlalchemy.engine.Engine [cached since 0.1566s ago] {'schema': 'Raw_Data', 'name': 'pmt_rcv_analysis'}\n",
      "2022-03-17 10:50:20,967 INFO sqlalchemy.engine.Engine ROLLBACK\n",
      "2022-03-17 10:50:20,969 INFO sqlalchemy.engine.Engine BEGIN (implicit)\n",
      "2022-03-17 10:50:20,977 INFO sqlalchemy.engine.Engine INSERT INTO \"Raw_Data\".pmt_rcv_analysis (feeearnercode1, mattercode1, client_name, matbranchref, postingdetailsdate, paymentref, departmentcode, feesreceived, feesnet, disballoc, unalloc, payalloc, feesnet1, feesnet2, date_added) VALUES (%(feeearnercode1)s, %(mattercode1)s, %(client_name)s, %(matbranchref)s, %(postingdetailsdate)s, %(paymentref)s, %(departmentcode)s, %(feesreceived)s, %(feesnet)s, %(disballoc)s, %(unalloc)s, %(payalloc)s, %(feesnet1)s, %(feesnet2)s, %(date_added)s)\n",
      "2022-03-17 10:50:20,978 INFO sqlalchemy.engine.Engine [generated in 0.00645s] ({'feeearnercode1': 'AHU', 'mattercode1': '082247-0002', 'client_name': 'Halcyon Living 111 Ltd', 'matbranchref': 1.0, 'postingdetailsdate': '02/03/2022', 'paymentref': 'Trf', 'departmentcode': 'RESI ', 'feesreceived': 0.0, 'feesnet': 0.0, 'disballoc': 4.0, 'unalloc': 0.0, 'payalloc': 0.0, 'feesnet1': 0.0, 'feesnet2': 13954.07, 'date_added': datetime.datetime(2022, 3, 1, 0, 0)}, {'feeearnercode1': 'AK', 'mattercode1': '074095-0002', 'client_name': 'Mr Alfred Adejorin', 'matbranchref': 1.0, 'postingdetailsdate': '03/03/2022', 'paymentref': 'Trf', 'departmentcode': 'RESI ', 'feesreceived': 467.0, 'feesnet': 389.17, 'disballoc': 0.0, 'unalloc': 0.0, 'payalloc': 0.0, 'feesnet1': 639.17, 'feesnet2': 13954.07, 'date_added': datetime.datetime(2022, 3, 1, 0, 0)}, {'feeearnercode1': 'AK', 'mattercode1': '075186-0005', 'client_name': 'Mrs Diksha Patel', 'matbranchref': 1.0, 'postingdetailsdate': '02/03/2022', 'paymentref': 'Trf', 'departmentcode': 'COMM ', 'feesreceived': 0.0, 'feesnet': 0.0, 'disballoc': 65.0, 'unalloc': 0.0, 'payalloc': 0.0, 'feesnet1': 639.17, 'feesnet2': 13954.07, 'date_added': datetime.datetime(2022, 3, 1, 0, 0)}, {'feeearnercode1': 'AK', 'mattercode1': '081986-0001', 'client_name': 'Mr Deniz Yildirim', 'matbranchref': 1.0, 'postingdetailsdate': '02/03/2022', 'paymentref': 'Trf', 'departmentcode': 'COMM ', 'feesreceived': 307.78, 'feesnet': 250.0, 'disballoc': 0.0, 'unalloc': 0.0, 'payalloc': 0.0, 'feesnet1': 639.17, 'feesnet2': 13954.07, 'date_added': datetime.datetime(2022, 3, 1, 0, 0)}, {'feeearnercode1': 'AK', 'mattercode1': '082181-0001', 'client_name': 'Ms Noziah Osman', 'matbranchref': 1.0, 'postingdetailsdate': '02/03/2022', 'paymentref': 'Trf', 'departmentcode': 'RESI ', 'feesreceived': 0.0, 'feesnet': 0.0, 'disballoc': 12.0, 'unalloc': 0.0, 'payalloc': 0.0, 'feesnet1': 639.17, 'feesnet2': 13954.07, 'date_added': datetime.datetime(2022, 3, 1, 0, 0)}, {'feeearnercode1': 'AOU', 'mattercode1': '081884-0001', 'client_name': 'Mr Nicola Cavalieri', 'matbranchref': 1.0, 'postingdetailsdate': '03/03/2022', 'paymentref': 'Trf', 'departmentcode': 'COMM ', 'feesreceived': 489.6, 'feesnet': 400.0, 'disballoc': 0.0, 'unalloc': 0.0, 'payalloc': 0.0, 'feesnet1': 400.0, 'feesnet2': 13954.07, 'date_added': datetime.datetime(2022, 3, 1, 0, 0)}, {'feeearnercode1': 'HEH', 'mattercode1': '079906-0001', 'client_name': 'Mr Peri Cengiz', 'matbranchref': 1.0, 'postingdetailsdate': '01/03/2022', 'paymentref': 'Trf', 'departmentcode': 'COMM ', 'feesreceived': 1560.0, 'feesnet': 1300.0, 'disballoc': 0.0, 'unalloc': 0.0, 'payalloc': 0.0, 'feesnet1': 3750.0, 'feesnet2': 13954.07, 'date_added': datetime.datetime(2022, 3, 1, 0, 0)}, {'feeearnercode1': 'HEH', 'mattercode1': '080052-0002', 'client_name': 'Mr Vahap Celik', 'matbranchref': 1.0, 'postingdetailsdate': '02/03/2022', 'paymentref': 'Trf', 'departmentcode': 'COMM ', 'feesreceived': 0.0, 'feesnet': 0.0, 'disballoc': 3.0, 'unalloc': 0.0, 'payalloc': 0.0, 'feesnet1': 3750.0, 'feesnet2': 13954.07, 'date_added': datetime.datetime(2022, 3, 1, 0, 0)}  ... displaying 10 of 347 total bound parameter sets ...  {'feeearnercode1': 'MC', 'mattercode1': '080852-0001', 'client_name': 'Mr Darren Matthews', 'matbranchref': 1.0, 'postingdetailsdate': '16/03/2022', 'paymentref': 'Trf', 'departmentcode': 'RESI ', 'feesreceived': 2370.0, 'feesnet': 1940.0, 'disballoc': 0.0, 'unalloc': 0.0, 'payalloc': 0.0, 'feesnet1': 1940.0, 'feesnet2': 7636.23, 'date_added': datetime.datetime(2022, 3, 16, 0, 0)}, {'feeearnercode1': 'PSL', 'mattercode1': '053326-0031', 'client_name': 'Turkiye Is Bankasi A.S.', 'matbranchref': 1.0, 'postingdetailsdate': '16/03/2022', 'paymentref': 'Trf', 'departmentcode': 'COMM ', 'feesreceived': 2604.0, 'feesnet': 2170.0, 'disballoc': 0.0, 'unalloc': 0.0, 'payalloc': 0.0, 'feesnet1': 2170.0, 'feesnet2': 7636.23, 'date_added': datetime.datetime(2022, 3, 16, 0, 0)})\n",
      "2022-03-17 10:50:21,019 INFO sqlalchemy.engine.Engine COMMIT\n",
      "Processed File [Payment Received Analysis]\n",
      "2022-03-17 10:50:21,110 INFO sqlalchemy.engine.Engine BEGIN (implicit)\n",
      "2022-03-17 10:50:21,111 INFO sqlalchemy.engine.Engine select relname from pg_class c join pg_namespace n on n.oid=c.relnamespace where n.nspname=%(schema)s and relname=%(name)s\n",
      "2022-03-17 10:50:21,112 INFO sqlalchemy.engine.Engine [cached since 0.3026s ago] {'schema': 'Raw_Data', 'name': 'tot_hrs_by_fe'}\n",
      "2022-03-17 10:50:21,113 INFO sqlalchemy.engine.Engine ROLLBACK\n",
      "2022-03-17 10:50:21,122 INFO sqlalchemy.engine.Engine BEGIN (implicit)\n",
      "2022-03-17 10:50:21,169 INFO sqlalchemy.engine.Engine INSERT INTO \"Raw_Data\".tot_hrs_by_fe (earnerref, earnername, recordedhours, recordedhours1, recordedvalue, nonchargehours, nonchargehours1, nonchargevalue, wohours, wohours1, wovalue, totalhour, totalhour1, totalvalue, netbillings, date_added) VALUES (%(earnerref)s, %(earnername)s, %(recordedhours)s, %(recordedhours1)s, %(recordedvalue)s, %(nonchargehours)s, %(nonchargehours1)s, %(nonchargevalue)s, %(wohours)s, %(wohours1)s, %(wovalue)s, %(totalhour)s, %(totalhour1)s, %(totalvalue)s, %(netbillings)s, %(date_added)s)\n",
      "2022-03-17 10:50:21,169 INFO sqlalchemy.engine.Engine [generated in 0.03811s] ({'earnerref': 'AA', 'earnername': 'AA Missing', 'recordedhours': '0:00', 'recordedhours1': 0.0, 'recordedvalue': 0.0, 'nonchargehours': '0:00', 'nonchargehours1': 0.0, 'nonchargevalue': 0.0, 'wohours': '0:00', 'wohours1': 0.0, 'wovalue': 0.0, 'totalhour': '0:00', 'totalhour1': 0.0, 'totalvalue': 0.0, 'netbillings': 0.0, 'date_added': datetime.datetime(2022, 3, 1, 0, 0)}, {'earnerref': 'AB', 'earnername': 'Anwara Begum', 'recordedhours': '5:13', 'recordedhours1': 5.22, 'recordedvalue': 0.0, 'nonchargehours': '5:13', 'nonchargehours1': 5.22, 'nonchargevalue': 0.0, 'wohours': '0:00', 'wohours1': 0.0, 'wovalue': 0.0, 'totalhour': '0:00', 'totalhour1': 0.0, 'totalvalue': 0.0, 'netbillings': 0.0, 'date_added': datetime.datetime(2022, 3, 1, 0, 0)}, {'earnerref': 'ABL', 'earnername': 'ABL Missing', 'recordedhours': '0:00', 'recordedhours1': 0.0, 'recordedvalue': 0.0, 'nonchargehours': '0:00', 'nonchargehours1': 0.0, 'nonchargevalue': 0.0, 'wohours': '0:00', 'wohours1': 0.0, 'wovalue': 0.0, 'totalhour': '0:00', 'totalhour1': 0.0, 'totalvalue': 0.0, 'netbillings': 0.0, 'date_added': datetime.datetime(2022, 3, 1, 0, 0)}, {'earnerref': 'AD', 'earnername': 'AD Missing', 'recordedhours': '0:00', 'recordedhours1': 0.0, 'recordedvalue': 0.0, 'nonchargehours': '0:00', 'nonchargehours1': 0.0, 'nonchargevalue': 0.0, 'wohours': '0:00', 'wohours1': 0.0, 'wovalue': 0.0, 'totalhour': '0:00', 'totalhour1': 0.0, 'totalvalue': 0.0, 'netbillings': 0.0, 'date_added': datetime.datetime(2022, 3, 1, 0, 0)}, {'earnerref': 'Admin', 'earnername': 'In House Admin', 'recordedhours': '0:00', 'recordedhours1': 0.0, 'recordedvalue': 0.0, 'nonchargehours': '0:00', 'nonchargehours1': 0.0, 'nonchargevalue': 0.0, 'wohours': '0:00', 'wohours1': 0.0, 'wovalue': 0.0, 'totalhour': '0:00', 'totalhour1': 0.0, 'totalvalue': 0.0, 'netbillings': 0.0, 'date_added': datetime.datetime(2022, 3, 1, 0, 0)}, {'earnerref': 'AE', 'earnername': 'Ali Ebrahim', 'recordedhours': '0:00', 'recordedhours1': 0.0, 'recordedvalue': 0.0, 'nonchargehours': '0:00', 'nonchargehours1': 0.0, 'nonchargevalue': 0.0, 'wohours': '0:00', 'wohours1': 0.0, 'wovalue': 0.0, 'totalhour': '0:00', 'totalhour1': 0.0, 'totalvalue': 0.0, 'netbillings': 0.0, 'date_added': datetime.datetime(2022, 3, 1, 0, 0)}, {'earnerref': 'AER', 'earnername': 'Andrew Renton', 'recordedhours': '0:00', 'recordedhours1': 0.0, 'recordedvalue': 0.0, 'nonchargehours': '0:00', 'nonchargehours1': 0.0, 'nonchargevalue': 0.0, 'wohours': '0:00', 'wohours1': 0.0, 'wovalue': 0.0, 'totalhour': '0:00', 'totalhour1': 0.0, 'totalvalue': 0.0, 'netbillings': 0.0, 'date_added': datetime.datetime(2022, 3, 1, 0, 0)}, {'earnerref': 'AF', 'earnername': 'Andrew Forrest', 'recordedhours': '0:00', 'recordedhours1': 0.0, 'recordedvalue': 0.0, 'nonchargehours': '0:00', 'nonchargehours1': 0.0, 'nonchargevalue': 0.0, 'wohours': '0:00', 'wohours1': 0.0, 'wovalue': 0.0, 'totalhour': '0:00', 'totalhour1': 0.0, 'totalvalue': 0.0, 'netbillings': 0.0, 'date_added': datetime.datetime(2022, 3, 1, 0, 0)}  ... displaying 10 of 4288 total bound parameter sets ...  {'earnerref': 'ZS', 'earnername': 'ZS Missing', 'recordedhours': '0:00', 'recordedhours1': 0.0, 'recordedvalue': 0.0, 'nonchargehours': '0:00', 'nonchargehours1': 0.0, 'nonchargevalue': 0.0, 'wohours': '0:00', 'wohours1': 0.0, 'wovalue': 0.0, 'totalhour': '0:00', 'totalhour1': 0.0, 'totalvalue': 0.0, 'netbillings': 0.0, 'date_added': datetime.datetime(2022, 3, 16, 0, 0)}, {'earnerref': 'ZZ', 'earnername': 'Bad Debts Specific Provision', 'recordedhours': '0:00', 'recordedhours1': 0.0, 'recordedvalue': 0.0, 'nonchargehours': '0:00', 'nonchargehours1': 0.0, 'nonchargevalue': 0.0, 'wohours': '0:00', 'wohours1': 0.0, 'wovalue': 0.0, 'totalhour': '0:00', 'totalhour1': 0.0, 'totalvalue': 0.0, 'netbillings': 0.0, 'date_added': datetime.datetime(2022, 3, 16, 0, 0)})\n",
      "2022-03-17 10:50:21,564 INFO sqlalchemy.engine.Engine COMMIT\n",
      "Processed File [Total Hours by Fee Earner-With Billings All]\n"
     ]
    }
   ],
   "source": [
    "for file in all_files.keys():\n",
    "    all_files[file].columns = [cols.lower() for cols in all_files[file].columns]\n",
    "    all_files[file].to_csv(final_files+\"\\\\\"+file+\".csv\",index=False)\n",
    "    all_files[file].to_sql(schema_ref[file],con=engine,if_exists='append',schema='Raw_Data',index=None)\n",
    "    print(f'Processed File [{file}]')"
   ]
  },
  {
   "cell_type": "code",
   "execution_count": 8,
   "metadata": {},
   "outputs": [],
   "source": [
    "# df_cb = all_files['Client Billing Descending']\n",
    "# df_cb.columns"
   ]
  },
  {
   "cell_type": "code",
   "execution_count": 9,
   "metadata": {},
   "outputs": [],
   "source": [
    "# df_cb.to_sql('client_billing',con=engine,if_exists='append',schema='Raw_Data',index=None)"
   ]
  }
 ],
 "metadata": {
  "interpreter": {
   "hash": "ecf5722fdaf1897a315d257d89d94520bfcaa453217d5becf09b39e73618b0de"
  },
  "kernelspec": {
   "display_name": "Python 3.9.7 ('base')",
   "language": "python",
   "name": "python3"
  },
  "language_info": {
   "codemirror_mode": {
    "name": "ipython",
    "version": 3
   },
   "file_extension": ".py",
   "mimetype": "text/x-python",
   "name": "python",
   "nbconvert_exporter": "python",
   "pygments_lexer": "ipython3",
   "version": "3.9.7"
  },
  "orig_nbformat": 4
 },
 "nbformat": 4,
 "nbformat_minor": 2
}
