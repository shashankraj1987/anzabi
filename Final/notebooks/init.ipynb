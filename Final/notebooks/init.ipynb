{
 "cells": [
  {
   "cell_type": "code",
   "execution_count": null,
   "metadata": {},
   "outputs": [],
   "source": [
    "from datetime import datetime\n",
    "import pandas as pd\n",
    "import sys\n",
    "import os\n",
    "from sqlalchemy import create_engine\n",
    "from datetime import datetime\n",
    "import logging\n",
    "\n",
    "import check_server\n",
    "from log_config import start_log\n",
    "import organize_files as of"
   ]
  },
  {
   "cell_type": "code",
   "execution_count": null,
   "metadata": {},
   "outputs": [],
   "source": [
    "logging.basicConfig(level=logging.DEBUG)"
   ]
  },
  {
   "cell_type": "code",
   "execution_count": null,
   "metadata": {},
   "outputs": [],
   "source": [
    "SCHEMA_REF = {\n",
    "    \"Client Billing Descending\":\"client_billing\",\"Fee Breakdown by Dept and Fee Earner\":\"fee_brkdn_dept_fe\",\"Fee Summary by Dept and Fee Earner\":\"fee_smry_dept_fe\",\n",
    "    \"Fees Billed\":\"fees_billed\",\"Matter Source of Business inc Matter Bills (Bill Date)\":\"mttr_src_ref\",\"Total Hours by Fee Earner-With Billings All\":\"tot_hrs_by_fe\",\n",
    "    \"Matters Opened by FE\":\"mtrs_by_fe\",\"Payment Received Analysis\":\"pmt_rcv_analysis\"}"
   ]
  },
  {
   "cell_type": "code",
   "execution_count": null,
   "metadata": {},
   "outputs": [],
   "source": [
    "def init_checks(info_file=None):\n",
    "    all_details = {}\n",
    "    info_dict = {}\n",
    "    if info_file is not None:\n",
    "        if os.path.exists(info_file):\n",
    "            logging.info(f\"Found file at [{info_file}]\")\n",
    "            all_details[\"loc\"] = info_file\n",
    "            #loc = info_file\n",
    "            opened_file = open(all_details[\"loc\"], encoding='utf8')\n",
    "            from csv import reader\n",
    "            read_file = reader(opened_file)\n",
    "            db_creds = list(read_file)\n",
    "            opened_file.close()\n",
    "\n",
    "            for info in db_creds:\n",
    "                info_dict[info[0]] = info[1]\n",
    "            \n",
    "            all_details['file_loc'] = info_dict[\"base_loc\"]\n",
    "            all_details['log_file'] = all_details['file_loc']+\"\\\\Logs\"\n",
    "            all_details['final_files'] = all_details['file_loc']+\"\\\\Final_Df\"\n",
    "            all_details['backup'] = all_details['file_loc']+\"\\\\Backup\"\n",
    "            all_details['trigger_file'] = all_details['file_loc']+\"\\\\file_trigger\\\\new_data_received.txt\"\n",
    "            init_logger = start_log(all_details['log_file'])\n",
    "\n",
    "            imp_folds = ['file_loc','log_file','final_files','backup','trigger_file']\n",
    "            for fold in imp_folds:\n",
    "                if os.path.exists(all_details[fold]):\n",
    "                    init_logger.info(f\"Found {all_details[fold]}\")\n",
    "                else:\n",
    "                    init_logger.error(f\"Folder {all_details[fold]} Doesn't exist\")\n",
    "\n",
    "            all_details['db'] = info_dict[\"db_name\"]\n",
    "            all_details['db_user'] = info_dict[\"db_user\"]\n",
    "            all_details['db_password'] = info_dict[\"db_password\"]\n",
    "            all_details['db_host'] = info_dict[\"db_host\"]\n",
    "            all_details['db_port'] = info_dict[\"db_port\"]\n",
    "\n",
    "            return all_details\n",
    "        else:\n",
    "            logging.error(\"Important Variables not set.\")\n",
    "            logging.error(\"Exiting ...\")\n",
    "            sys.exit()\n",
    "    else:\n",
    "        i1 = check_server.chk_srvr()\n",
    "        if i1.chk_base_dirs() != -1 & i1.chk_creds() != -1:\n",
    "    \n",
    "            logging.info(\"Checking Environment Variables for information\")\n",
    "            srv_dirs = i1.chk_base_dirs()\n",
    "            db_creds = i1.chk_creds()\n",
    "\n",
    "            if srv_dirs:\n",
    "                all_details['file_loc'] = srv_dirs[0]\n",
    "                all_details['log_file'] = srv_dirs[1]\n",
    "                all_details['final_files'] = srv_dirs[2]\n",
    "                all_details['backup'] = srv_dirs[3]\n",
    "                all_details['trigger_file'] = srv_dirs[4]\n",
    "                init_logger = start_log(all_details['log_file'])\n",
    "                logging.info(\"Variables Set Successfully for File Locations\")\n",
    "            else:\n",
    "                logging.error(\"Environment Variables for Files is not set\")\n",
    "                logging.info(\"Checking Environment Variables for DB Credentials \")\n",
    "\n",
    "            if db_creds:\n",
    "                all_details['db'] = db_creds[0]\n",
    "                all_details['db_user'] = db_creds[1]\n",
    "                all_details['db_password'] = db_creds[2]\n",
    "                all_details['db_host'] = db_creds[3]\n",
    "                all_details['db_port'] = db_creds[4]\n",
    "                logging.info(\"Variables Set successfully for DB Creds \")\n",
    "                return all_details\n",
    "        else:\n",
    "            logging.error(\"Environment Variables not set for DB Credentials.\")\n",
    "            return -1\n",
    "        \n"
   ]
  },
  {
   "cell_type": "code",
   "execution_count": null,
   "metadata": {},
   "outputs": [],
   "source": [
    "s_dict = init_checks(\"D:\\Learning+Offline\\db_creds.csv\")\n",
    "s_dict\n"
   ]
  },
  {
   "cell_type": "code",
   "execution_count": null,
   "metadata": {},
   "outputs": [],
   "source": [
    "def main():\n",
    "    import log_config\n",
    "\n",
    "    if os.name == 'posix':\n",
    "        print(\"Getting Details from the Environment Variables\")\n",
    "        all_info = init_checks()\n",
    "    elif os.name == 'nt':\n",
    "        print(\"Running on Windows\")\n",
    "        loc = input(\"Enter Location of Configuration file\")\n",
    "        if os.path.exists(loc):\n",
    "            all_info = init_checks(loc)\n",
    "        else:\n",
    "            print(f\"File [{loc}] not Found\")\n",
    "\n",
    "    main_logger = log_config.start_log(all_info[\"log_file\"])    \n",
    "    try:\n",
    "        engine = create_engine(f'postgresql://{all_info[\"db_user\"]}:{all_info[\"db_password\"]}@{all_info[\"db_host\"]}:{all_info[\"db_port\"]}/{all_info[\"db\"]}',echo=True)\n",
    "    except:\n",
    "        main_logger.error(\"Unable to connect to the Database\")\n",
    "    else:\n",
    "        main_logger.info(\"Database Connection Established\")\n",
    "\n",
    "    dict_list = of.categorize_files(all_info[\"file_loc\"])\n",
    "    all_files = of.concat_files(dict_list, all_info[\"file_loc\"], all_info[\"log_file\"])\n",
    "\n"
   ]
  },
  {
   "cell_type": "code",
   "execution_count": 10,
   "metadata": {},
   "outputs": [
    {
     "name": "stdout",
     "output_type": "stream",
     "text": [
      "nt\n"
     ]
    }
   ],
   "source": [
    "main()"
   ]
  }
 ],
 "metadata": {
  "interpreter": {
   "hash": "ecf5722fdaf1897a315d257d89d94520bfcaa453217d5becf09b39e73618b0de"
  },
  "kernelspec": {
   "display_name": "Python 3.9.7 ('base')",
   "language": "python",
   "name": "python3"
  },
  "language_info": {
   "codemirror_mode": {
    "name": "ipython",
    "version": 3
   },
   "file_extension": ".py",
   "mimetype": "text/x-python",
   "name": "python",
   "nbconvert_exporter": "python",
   "pygments_lexer": "ipython3",
   "version": "3.10.2"
  },
  "orig_nbformat": 4
 },
 "nbformat": 4,
 "nbformat_minor": 2
}
