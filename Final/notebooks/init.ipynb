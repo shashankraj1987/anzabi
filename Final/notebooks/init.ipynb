{
 "cells": [
  {
   "cell_type": "code",
   "execution_count": 1,
   "metadata": {},
   "outputs": [],
   "source": [
    "import organize_files as of\n",
    "import pandas as pd\n",
    "import os\n",
    "from sqlalchemy import create_engine\n",
    "import datetime"
   ]
  },
  {
   "cell_type": "code",
   "execution_count": 2,
   "metadata": {},
   "outputs": [
    {
     "name": "stdout",
     "output_type": "stream",
     "text": [
      "COnnection Successful\n"
     ]
    }
   ],
   "source": [
    "db = 'AnzaBI'\n",
    "db_user = 'db_Admin'\n",
    "db_password = 'password'\n",
    "db_host = '219.91.145.98'\n",
    "db_port = '5432'\n",
    "db_schema = '\"Bowling_Data\"'\n",
    "\n",
    "try:\n",
    "    engine = create_engine(f'postgresql://{db_user}:{db_password}@{db_host}:{db_port}/{db}',echo=True,future=True)\n",
    "except:\n",
    "    print(\"Unable to Create Database\")\n",
    "else:\n",
    "    print(\"COnnection Successful\")"
   ]
  },
  {
   "cell_type": "code",
   "execution_count": 3,
   "metadata": {},
   "outputs": [],
   "source": [
    "if os.name == 'posix':\n",
    "    file_loc = r\"/home/shashankraj/Documents/DATA_Dump\"\n",
    "    log_file = file_loc+\"/\"+\"Logs\"\n",
    "    final_files = file_loc+\"/\"+\"Final_Df\"\n",
    "    backup = file_loc+\"/\"+\"Backup\"\n",
    "    #today = str(datetime.today().date())\n",
    "    trigger_file = file_loc+\"/file_trigger/\"+\"new_data_received.txt\"\n",
    "else:\n",
    "    file_loc=r\"D:\\One Drive Anza\\OneDrive - Anza Services LLP\\DATA_Dump\\Final_Df\"\n",
    "    log_file = file_loc+\"\\\\\"+\"Logs\"\n",
    "    final_files = file_loc+\"\\\\\"+\"Final_Df\"\n",
    "    backup = file_loc+\"\\\\\"+\"Backup\"\n",
    "    #today = str(datetime.today().date())\n",
    "    trigger_file = file_loc+\"\\\\file_trigger\\\\\"+\"new_data_received.txt\""
   ]
  },
  {
   "cell_type": "code",
   "execution_count": 4,
   "metadata": {},
   "outputs": [],
   "source": [
    "schema_ref = {\n",
    "    \"Client Billing Descending\":\"client_billing\",\"Fee Breakdown by Dept and Fee Earner\":\"fee_brkdn_dept_fe\",\"Fee Summary by Dept and Fee Earner\":\"fee_smry_dept_fe\",\n",
    "    \"Fees Billed\":\"fees_billed\",\"Matter Source of Business inc Matter Bills (Bill Date)\":\"mttr_src_ref\",\"Total Hours by Fee Earner-With Billings All\":\"tot_hrs_by_fe\",\n",
    "    \"Matters Opened by FE\":\"mtrs_by_fe\",\"Payment Received Analysis\":\"pmt_rcv_analysis\"}"
   ]
  },
  {
   "cell_type": "code",
   "execution_count": 5,
   "metadata": {},
   "outputs": [
    {
     "name": "stdout",
     "output_type": "stream",
     "text": [
      "\u001b[H\u001b[2JFound 30 csv files\n",
      "\n",
      "Log Files are located at /home/shashankraj/Documents/DATA_Dump/Logs\n"
     ]
    }
   ],
   "source": [
    "dict_list = of.categorize_files(file_loc)\n",
    "all_files = of.concat_files(dict_list, file_loc, log_file)\n",
    "\n",
    "print(f'\\nLog Files are located at {log_file}')"
   ]
  },
  {
   "cell_type": "code",
   "execution_count": 6,
   "metadata": {},
   "outputs": [
    {
     "name": "stdout",
     "output_type": "stream",
     "text": [
      "/home/shashankraj/Documents/DATA_Dump/Final_Df/Client Billing Descending.csv already exists\n",
      "2022-03-24 16:54:13,819 INFO sqlalchemy.engine.Engine select pg_catalog.version()\n",
      "2022-03-24 16:54:13,820 INFO sqlalchemy.engine.Engine [raw sql] {}\n",
      "2022-03-24 16:54:13,887 INFO sqlalchemy.engine.Engine select current_schema()\n",
      "2022-03-24 16:54:13,888 INFO sqlalchemy.engine.Engine [raw sql] {}\n",
      "2022-03-24 16:54:13,963 INFO sqlalchemy.engine.Engine show standard_conforming_strings\n",
      "2022-03-24 16:54:13,964 INFO sqlalchemy.engine.Engine [raw sql] {}\n",
      "2022-03-24 16:54:14,030 INFO sqlalchemy.engine.Engine BEGIN (implicit)\n",
      "2022-03-24 16:54:14,031 INFO sqlalchemy.engine.Engine select relname from pg_class c join pg_namespace n on n.oid=c.relnamespace where n.nspname=%(schema)s and relname=%(name)s\n",
      "2022-03-24 16:54:14,031 INFO sqlalchemy.engine.Engine [generated in 0.00115s] {'schema': 'Bowling_Data', 'name': 'client_billing'}\n",
      "2022-03-24 16:54:14,099 INFO sqlalchemy.engine.Engine ROLLBACK\n",
      "2022-03-24 16:54:14,133 INFO sqlalchemy.engine.Engine BEGIN (implicit)\n",
      "2022-03-24 16:54:14,134 INFO sqlalchemy.engine.Engine INSERT INTO \"Bowling_Data\".client_billing (client_surname1, total_profit1, total_bill_amount, total_profit, total_bill_amount1, date_added) VALUES (%(client_surname1)s, %(total_profit1)s, %(total_bill_amount)s, %(total_profit)s, %(total_bill_amount1)s, %(date_added)s)\n",
      "2022-03-24 16:54:14,136 INFO sqlalchemy.engine.Engine [generated in 0.00145s] ({'client_surname1': 'Workout Limited', 'total_profit1': 2200.0, 'total_bill_amount': 2682.0, 'total_profit': 6432.0, 'total_bill_amount1': 9002.0, 'date_added': datetime.datetime(2022, 3, 18, 0, 0)}, {'client_surname1': 'Yumak Omer Tayfun', 'total_profit1': 0.0, 'total_bill_amount': 90.0, 'total_profit': 6432.0, 'total_bill_amount1': 9002.0, 'date_added': datetime.datetime(2022, 3, 18, 0, 0)}, {'client_surname1': 'Sandal Serafettin', 'total_profit1': 0.0, 'total_bill_amount': 209.0, 'total_profit': 6432.0, 'total_bill_amount1': 9002.0, 'date_added': datetime.datetime(2022, 3, 18, 0, 0)}, {'client_surname1': 'Erbil Cetin', 'total_profit1': 0.0, 'total_bill_amount': 209.0, 'total_profit': 6432.0, 'total_bill_amount1': 9002.0, 'date_added': datetime.datetime(2022, 3, 18, 0, 0)}, {'client_surname1': 'Hazar Erdal', 'total_profit1': 0.0, 'total_bill_amount': 400.0, 'total_profit': 6432.0, 'total_bill_amount1': 9002.0, 'date_added': datetime.datetime(2022, 3, 18, 0, 0)}, {'client_surname1': 'Kestane Gulperi', 'total_profit1': 0.0, 'total_bill_amount': 209.0, 'total_profit': 6432.0, 'total_bill_amount1': 9002.0, 'date_added': datetime.datetime(2022, 3, 18, 0, 0)}, {'client_surname1': 'Komurcu Okkes', 'total_profit1': 932.0, 'total_bill_amount': 1160.0, 'total_profit': 6432.0, 'total_bill_amount1': 9002.0, 'date_added': datetime.datetime(2022, 3, 18, 0, 0)}, {'client_surname1': 'Kabak Elif Ay', 'total_profit1': 1350.0, 'total_bill_amount': 1662.0, 'total_profit': 6432.0, 'total_bill_amount1': 9002.0, 'date_added': datetime.datetime(2022, 3, 18, 0, 0)}  ... displaying 10 of 33 total bound parameter sets ...  {'client_surname1': 'Suleyman Sedat', 'total_profit1': 450.0, 'total_bill_amount': 540.0, 'total_profit': 33806.0, 'total_bill_amount1': 40652.0, 'date_added': datetime.datetime(2022, 3, 22, 0, 0)}, {'client_surname1': 'A H Field -Developers Ltd', 'total_profit1': 0.0, 'total_bill_amount': 42.0, 'total_profit': 33806.0, 'total_bill_amount1': 40652.0, 'date_added': datetime.datetime(2022, 3, 22, 0, 0)})\n",
      "2022-03-24 16:54:14,213 INFO sqlalchemy.engine.Engine COMMIT\n",
      "Putting all data in Postgresql Server for  [Client Billing Descending]\n",
      "/home/shashankraj/Documents/DATA_Dump/Final_Df/Fee Breakdown by Dept and Fee Earner.csv already exists\n",
      "2022-03-24 16:54:14,265 INFO sqlalchemy.engine.Engine BEGIN (implicit)\n",
      "2022-03-24 16:54:14,265 INFO sqlalchemy.engine.Engine select relname from pg_class c join pg_namespace n on n.oid=c.relnamespace where n.nspname=%(schema)s and relname=%(name)s\n",
      "2022-03-24 16:54:14,266 INFO sqlalchemy.engine.Engine [cached since 0.2358s ago] {'schema': 'Bowling_Data', 'name': 'fee_brkdn_dept_fe'}\n",
      "2022-03-24 16:54:14,352 INFO sqlalchemy.engine.Engine ROLLBACK\n",
      "2022-03-24 16:54:14,394 INFO sqlalchemy.engine.Engine BEGIN (implicit)\n",
      "2022-03-24 16:54:14,397 INFO sqlalchemy.engine.Engine INSERT INTO \"Bowling_Data\".fee_brkdn_dept_fe (matter_dept_dept_name, fee_earner_reference, matter_ref, profit, non_vatable_disbursements, vatable_disbursements, vat_amount, bill_amount, wip_cost_billed, date_added) VALUES (%(matter_dept_dept_name)s, %(fee_earner_reference)s, %(matter_ref)s, %(profit)s, %(non_vatable_disbursements)s, %(vatable_disbursements)s, %(vat_amount)s, %(bill_amount)s, %(wip_cost_billed)s, %(date_added)s)\n",
      "2022-03-24 16:54:14,398 INFO sqlalchemy.engine.Engine [generated in 0.00136s] ({'matter_dept_dept_name': 'Conveyancing Commercial', 'fee_earner_reference': 'HEH', 'matter_ref': '048977-0009', 'profit': 0.0, 'non_vatable_disbursements': 0.0, 'vatable_disbursements': 333.0, 'vat_amount': 66.6, 'bill_amount': 399.6, 'wip_cost_billed': 0.0, 'date_added': datetime.datetime(2022, 3, 18, 0, 0)}, {'matter_dept_dept_name': 'Conveyancing Residential', 'fee_earner_reference': 'OK', 'matter_ref': '081423-0001', 'profit': 931.67, 'non_vatable_disbursements': 0.0, 'vatable_disbursements': 35.0, 'vat_amount': 193.33, 'bill_amount': 1160.0, 'wip_cost_billed': 1603.99, 'date_added': datetime.datetime(2022, 3, 18, 0, 0)}, {'matter_dept_dept_name': 'Conveyancing Residential', 'fee_earner_reference': 'HEH', 'matter_ref': '082136-0002', 'profit': 0.0, 'non_vatable_disbursements': 0.0, 'vatable_disbursements': 74.72, 'vat_amount': 14.94, 'bill_amount': 89.66, 'wip_cost_billed': 0.0, 'date_added': datetime.datetime(2022, 3, 18, 0, 0)}, {'matter_dept_dept_name': 'Conveyancing Residential', 'fee_earner_reference': 'AOU', 'matter_ref': '082518-0001', 'profit': 0.0, 'non_vatable_disbursements': 0.0, 'vatable_disbursements': 176.67, 'vat_amount': 32.33, 'bill_amount': 209.0, 'wip_cost_billed': 0.0, 'date_added': datetime.datetime(2022, 3, 18, 0, 0)}, {'matter_dept_dept_name': 'Conveyancing Residential', 'fee_earner_reference': 'AK', 'matter_ref': '082186-0001', 'profit': 1350.0, 'non_vatable_disbursements': 0.0, 'vatable_disbursements': 35.0, 'vat_amount': 277.0, 'bill_amount': 1662.0, 'wip_cost_billed': 2069.98, 'date_added': datetime.datetime(2022, 3, 18, 0, 0)}, {'matter_dept_dept_name': 'Conveyancing Residential', 'fee_earner_reference': 'LG', 'matter_ref': '082552-0001', 'profit': 0.0, 'non_vatable_disbursements': 0.0, 'vatable_disbursements': 176.68, 'vat_amount': 32.32, 'bill_amount': 209.0, 'wip_cost_billed': 0.0, 'date_added': datetime.datetime(2022, 3, 18, 0, 0)}, {'matter_dept_dept_name': 'Conveyancing Commercial', 'fee_earner_reference': 'TKC', 'matter_ref': '070879-0010', 'profit': 2200.0, 'non_vatable_disbursements': 0.0, 'vatable_disbursements': 35.0, 'vat_amount': 447.0, 'bill_amount': 2682.0, 'wip_cost_billed': 5877.92, 'date_added': datetime.datetime(2022, 3, 18, 0, 0)}, {'matter_dept_dept_name': 'Conveyancing Commercial', 'fee_earner_reference': 'HY', 'matter_ref': '049736-0016', 'profit': 500.0, 'non_vatable_disbursements': 0.0, 'vatable_disbursements': 0.0, 'vat_amount': 100.0, 'bill_amount': 600.0, 'wip_cost_billed': 537.0, 'date_added': datetime.datetime(2022, 3, 18, 0, 0)}  ... displaying 10 of 33 total bound parameter sets ...  {'matter_dept_dept_name': 'Corporate', 'fee_earner_reference': 'MA', 'matter_ref': '081313-0001', 'profit': 15428.79, 'non_vatable_disbursements': 0.0, 'vatable_disbursements': 0.0, 'vat_amount': 3085.76, 'bill_amount': 18514.55, 'wip_cost_billed': 15435.65, 'date_added': datetime.datetime(2022, 3, 22, 0, 0)}, {'matter_dept_dept_name': 'Litigation - Other', 'fee_earner_reference': 'JAS', 'matter_ref': '051961-0001', 'profit': 14653.33, 'non_vatable_disbursements': 0.0, 'vatable_disbursements': 0.0, 'vat_amount': 2930.67, 'bill_amount': 17584.0, 'wip_cost_billed': 10750.0, 'date_added': datetime.datetime(2022, 3, 22, 0, 0)})\n",
      "2022-03-24 16:54:14,482 INFO sqlalchemy.engine.Engine COMMIT\n",
      "Putting all data in Postgresql Server for  [Fee Breakdown by Dept and Fee Earner]\n",
      "/home/shashankraj/Documents/DATA_Dump/Final_Df/Fee Summary by Dept and Fee Earner.csv already exists\n",
      "2022-03-24 16:54:14,547 INFO sqlalchemy.engine.Engine BEGIN (implicit)\n",
      "2022-03-24 16:54:14,551 INFO sqlalchemy.engine.Engine select relname from pg_class c join pg_namespace n on n.oid=c.relnamespace where n.nspname=%(schema)s and relname=%(name)s\n",
      "2022-03-24 16:54:14,554 INFO sqlalchemy.engine.Engine [cached since 0.5236s ago] {'schema': 'Bowling_Data', 'name': 'fee_smry_dept_fe'}\n",
      "2022-03-24 16:54:14,622 INFO sqlalchemy.engine.Engine ROLLBACK\n",
      "2022-03-24 16:54:14,660 INFO sqlalchemy.engine.Engine BEGIN (implicit)\n",
      "2022-03-24 16:54:14,663 INFO sqlalchemy.engine.Engine INSERT INTO \"Bowling_Data\".fee_smry_dept_fe (matter_dept_dept_name, fee_earner_reference1, profit, date_added) VALUES (%(matter_dept_dept_name)s, %(fee_earner_reference1)s, %(profit)s, %(date_added)s)\n",
      "2022-03-24 16:54:14,664 INFO sqlalchemy.engine.Engine [generated in 0.00064s] ({'matter_dept_dept_name': 'Conveyancing Commercial', 'fee_earner_reference1': 'HEH', 'profit': 0.0, 'date_added': datetime.datetime(2022, 3, 18, 0, 0)}, {'matter_dept_dept_name': 'Conveyancing Commercial', 'fee_earner_reference1': 'HY', 'profit': 500.0, 'date_added': datetime.datetime(2022, 3, 18, 0, 0)}, {'matter_dept_dept_name': 'Conveyancing Commercial', 'fee_earner_reference1': 'TKC', 'profit': 2200.0, 'date_added': datetime.datetime(2022, 3, 18, 0, 0)}, {'matter_dept_dept_name': 'Conveyancing Residential', 'fee_earner_reference1': 'AK', 'profit': 2800.0, 'date_added': datetime.datetime(2022, 3, 18, 0, 0)}, {'matter_dept_dept_name': 'Conveyancing Residential', 'fee_earner_reference1': 'AOU', 'profit': 0.0, 'date_added': datetime.datetime(2022, 3, 18, 0, 0)}, {'matter_dept_dept_name': 'Conveyancing Residential', 'fee_earner_reference1': 'HEH', 'profit': 0.0, 'date_added': datetime.datetime(2022, 3, 18, 0, 0)}, {'matter_dept_dept_name': 'Conveyancing Residential', 'fee_earner_reference1': 'LG', 'profit': 0.0, 'date_added': datetime.datetime(2022, 3, 18, 0, 0)}, {'matter_dept_dept_name': 'Conveyancing Residential', 'fee_earner_reference1': 'OK', 'profit': 931.67, 'date_added': datetime.datetime(2022, 3, 18, 0, 0)}  ... displaying 10 of 20 total bound parameter sets ...  {'matter_dept_dept_name': 'Landlord/Tenant - Litigious', 'fee_earner_reference1': 'SJ', 'profit': 1770.0, 'date_added': datetime.datetime(2022, 3, 22, 0, 0)}, {'matter_dept_dept_name': 'Conveyancing Residential', 'fee_earner_reference1': 'LG', 'profit': 1504.17, 'date_added': datetime.datetime(2022, 3, 22, 0, 0)})\n",
      "2022-03-24 16:54:14,783 INFO sqlalchemy.engine.Engine COMMIT\n",
      "Putting all data in Postgresql Server for  [Fee Summary by Dept and Fee Earner]\n",
      "/home/shashankraj/Documents/DATA_Dump/Final_Df/Fees Billed.csv already exists\n",
      "2022-03-24 16:54:14,828 INFO sqlalchemy.engine.Engine BEGIN (implicit)\n",
      "2022-03-24 16:54:14,828 INFO sqlalchemy.engine.Engine select relname from pg_class c join pg_namespace n on n.oid=c.relnamespace where n.nspname=%(schema)s and relname=%(name)s\n",
      "2022-03-24 16:54:14,829 INFO sqlalchemy.engine.Engine [cached since 0.7985s ago] {'schema': 'Bowling_Data', 'name': 'fees_billed'}\n",
      "2022-03-24 16:54:14,898 INFO sqlalchemy.engine.Engine ROLLBACK\n",
      "2022-03-24 16:54:14,936 INFO sqlalchemy.engine.Engine BEGIN (implicit)\n",
      "2022-03-24 16:54:14,938 INFO sqlalchemy.engine.Engine INSERT INTO \"Bowling_Data\".fees_billed (feeref, month, splitamount, date_added) VALUES (%(feeref)s, %(month)s, %(splitamount)s, %(date_added)s)\n",
      "2022-03-24 16:54:14,938 INFO sqlalchemy.engine.Engine [generated in 0.00066s] ({'feeref': 'AB', 'month': 'Mar 2022', 'splitamount': 0.0, 'date_added': datetime.datetime(2022, 3, 18, 0, 0)}, {'feeref': 'YH', 'month': 'Mar 2022', 'splitamount': 0.0, 'date_added': datetime.datetime(2022, 3, 18, 0, 0)}, {'feeref': 'TM', 'month': 'Mar 2022', 'splitamount': 0.0, 'date_added': datetime.datetime(2022, 3, 18, 0, 0)}, {'feeref': 'TKC', 'month': 'Mar 2022', 'splitamount': 2200.0, 'date_added': datetime.datetime(2022, 3, 18, 0, 0)}, {'feeref': 'SUN', 'month': 'Mar 2022', 'splitamount': 0.0, 'date_added': datetime.datetime(2022, 3, 18, 0, 0)}, {'feeref': 'SGK', 'month': 'Mar 2022', 'splitamount': 0.0, 'date_added': datetime.datetime(2022, 3, 18, 0, 0)}, {'feeref': 'SC', 'month': 'Mar 2022', 'splitamount': 0.0, 'date_added': datetime.datetime(2022, 3, 18, 0, 0)}, {'feeref': 'OK', 'month': 'Mar 2022', 'splitamount': 932.0, 'date_added': datetime.datetime(2022, 3, 18, 0, 0)}  ... displaying 10 of 46 total bound parameter sets ...  {'feeref': 'KT', 'month': 'Mar 2022', 'splitamount': 0.0, 'date_added': datetime.datetime(2022, 3, 22, 0, 0)}, {'feeref': 'TM', 'month': 'Mar 2022', 'splitamount': 0.0, 'date_added': datetime.datetime(2022, 3, 22, 0, 0)})\n",
      "2022-03-24 16:54:15,011 INFO sqlalchemy.engine.Engine ROLLBACK\n",
      "***** Unable to write to Database for file [Fees Billed]********* \n",
      "/home/shashankraj/Documents/DATA_Dump/Final_Df/Matter Source of Business inc Matter Bills (Bill Date).csv already exists\n",
      "2022-03-24 16:54:15,057 INFO sqlalchemy.engine.Engine BEGIN (implicit)\n",
      "2022-03-24 16:54:15,057 INFO sqlalchemy.engine.Engine select relname from pg_class c join pg_namespace n on n.oid=c.relnamespace where n.nspname=%(schema)s and relname=%(name)s\n",
      "2022-03-24 16:54:15,058 INFO sqlalchemy.engine.Engine [cached since 1.028s ago] {'schema': 'Bowling_Data', 'name': 'mttr_src_ref'}\n",
      "2022-03-24 16:54:15,127 INFO sqlalchemy.engine.Engine ROLLBACK\n",
      "2022-03-24 16:54:15,161 INFO sqlalchemy.engine.Engine BEGIN (implicit)\n",
      "2022-03-24 16:54:15,163 INFO sqlalchemy.engine.Engine INSERT INTO \"Bowling_Data\".mttr_src_ref (fee_earner_reference1, business_source1, client_name1, matter_ref, matter_description, bill_date, bill_ref, bill_amount, date_added) VALUES (%(fee_earner_reference1)s, %(business_source1)s, %(client_name1)s, %(matter_ref)s, %(matter_description)s, %(bill_date)s, %(bill_ref)s, %(bill_amount)s, %(date_added)s)\n",
      "2022-03-24 16:54:15,163 INFO sqlalchemy.engine.Engine [generated in 0.00053s] ({'fee_earner_reference1': 'AK', 'business_source1': 'Employee - AK', 'client_name1': 'Ms Elif Ay Kabak', 'matter_ref': '082186-0001', 'matter_description': 'Purchase of 10 Kenwards Brighton East Sussex BN1 9EN', 'bill_date': '18/03/2022', 'bill_ref': 26766.0, 'bill_amount': 1350.0, 'date_added': datetime.datetime(2022, 3, 18, 0, 0)}, {'fee_earner_reference1': 'TKC', 'business_source1': 'Introducer - David Hirschfield', 'client_name1': 'Workout Limited', 'matter_ref': '070879-0010', 'matter_description': 'Lease of Unit 2 & 3 Sterling House Langston Road Loughton Essex IG10 3TS', 'bill_date': '18/03/2022', 'bill_ref': 26764.0, 'bill_amount': 2200.0, 'date_added': datetime.datetime(2022, 3, 18, 0, 0)}, {'fee_earner_reference1': 'LG', 'business_source1': 'Solicitor - Ayla Zengin', 'client_name1': 'Mrs Gulperi Kestane', 'matter_ref': '082552-0001', 'matter_description': 'Purchase of Unit 228 City Studios 378 North Road Preston PR1 1RU', 'bill_date': '18/03/2022', 'bill_ref': 26761.0, 'bill_amount': 0.0, 'date_added': datetime.datetime(2022, 3, 18, 0, 0)}, {'fee_earner_reference1': 'HY', 'business_source1': 'Employee - DDR', 'client_name1': 'Handsale Limited', 'matter_ref': '049736-0016', 'matter_description': 'Agreement for Lease and Lease Priesty Fields Congleton', 'bill_date': '18/03/2022', 'bill_ref': 26763.0, 'bill_amount': 500.0, 'date_added': datetime.datetime(2022, 3, 18, 0, 0)}, {'fee_earner_reference1': 'HEH', 'business_source1': 'Employee - HEH', 'client_name1': 'Mr Serafettin Sandal', 'matter_ref': '081456-0002', 'matter_description': 'Purchase of 23 Tallis Court Kidman Close Gidea Park Romford RM2 6GH', 'bill_date': '18/03/2022', 'bill_ref': 26759.0, 'bill_amount': 0.0, 'date_added': datetime.datetime(2022, 3, 18, 0, 0)}, {'fee_earner_reference1': 'OK', 'business_source1': 'Employee - OK', 'client_name1': 'Mr Okkes Komurcu', 'matter_ref': '081423-0001', 'matter_description': 'Purchase of 19 Flamstead End Road Cheshunt Waltham Cross Hertfordshire EN8 0HL', 'bill_date': '18/03/2022', 'bill_ref': 26765.0, 'bill_amount': 931.67, 'date_added': datetime.datetime(2022, 3, 18, 0, 0)}, {'fee_earner_reference1': 'HEH', 'business_source1': 'Employee - HEH', 'client_name1': 'Mr Erdal Hazar', 'matter_ref': '048977-0009', 'matter_description': 'Purchase of 21 Church Street Enfield EN2 6AF', 'bill_date': '18/03/2022', 'bill_ref': 26760.0, 'bill_amount': 0.0, 'date_added': datetime.datetime(2022, 3, 18, 0, 0)}, {'fee_earner_reference1': 'AOU', 'business_source1': 'Employee - HEH', 'client_name1': 'Mr Cetin Erbil', 'matter_ref': '082518-0001', 'matter_description': 'P/O 22 Ridge Road Winchmore Hill N21 3EA', 'bill_date': '18/03/2022', 'bill_ref': 26757.0, 'bill_amount': 0.0, 'date_added': datetime.datetime(2022, 3, 18, 0, 0)}  ... displaying 10 of 32 total bound parameter sets ...  {'fee_earner_reference1': 'MA', 'business_source1': 'Accountant - Ashfords Partnership LLP - London', 'client_name1': 'SHANCO Limited', 'matter_ref': '081313-0001', 'matter_description': 'P/O entire issued share capital Florida Pharmacy Ltd- 307 -LH & 360 -NewLH Bethnal Green Rd E2 6AH', 'bill_date': '22/03/2022', 'bill_ref': 26786.0, 'bill_amount': 15428.79, 'date_added': datetime.datetime(2022, 3, 22, 0, 0)}, {'fee_earner_reference1': 'SJ', 'business_source1': 'Employee - HY', 'client_name1': 'Mr Erdal Metin Fahri', 'matter_ref': '069103-0008', 'matter_description': 'Authorised Guarantee Agreement Dispute -123 High Street TN13 1UP', 'bill_date': '22/03/2022', 'bill_ref': 26784.0, 'bill_amount': 1770.0, 'date_added': datetime.datetime(2022, 3, 22, 0, 0)})\n",
      "2022-03-24 16:54:15,233 INFO sqlalchemy.engine.Engine COMMIT\n",
      "Putting all data in Postgresql Server for  [Matter Source of Business inc Matter Bills (Bill Date)]\n",
      "/home/shashankraj/Documents/DATA_Dump/Final_Df/Matters Opened by FE.csv already exists\n",
      "2022-03-24 16:54:15,272 INFO sqlalchemy.engine.Engine BEGIN (implicit)\n",
      "2022-03-24 16:54:15,276 INFO sqlalchemy.engine.Engine select relname from pg_class c join pg_namespace n on n.oid=c.relnamespace where n.nspname=%(schema)s and relname=%(name)s\n",
      "2022-03-24 16:54:15,277 INFO sqlalchemy.engine.Engine [cached since 1.247s ago] {'schema': 'Bowling_Data', 'name': 'mtrs_by_fe'}\n",
      "2022-03-24 16:54:15,364 INFO sqlalchemy.engine.Engine ROLLBACK\n",
      "2022-03-24 16:54:15,405 INFO sqlalchemy.engine.Engine BEGIN (implicit)\n",
      "2022-03-24 16:54:15,409 INFO sqlalchemy.engine.Engine INSERT INTO \"Bowling_Data\".mtrs_by_fe (fee_earner_full_name1, business_source, work_type_description1, matter_ref, date_added) VALUES (%(fee_earner_full_name1)s, %(business_source)s, %(work_type_description1)s, %(matter_ref)s, %(date_added)s)\n",
      "2022-03-24 16:54:15,410 INFO sqlalchemy.engine.Engine [generated in 0.00131s] ({'fee_earner_full_name1': 'Miss Rashida Zakir', 'business_source': 'Employee - RZ', 'work_type_description1': '23-Res-L/hold ReMtge -Res-Mtge', 'matter_ref': 1.0, 'date_added': datetime.datetime(2022, 3, 18, 0, 0)}, {'fee_earner_full_name1': 'Mr Huseyin Enver Huseyin', 'business_source': 'Existing Client - Bowling & Co', 'work_type_description1': 'Banking', 'matter_ref': 2.0, 'date_added': datetime.datetime(2022, 3, 18, 0, 0)}, {'fee_earner_full_name1': 'Mr Huseyin Enver Huseyin', 'business_source': 'Existing Client - Bowling & Co', 'work_type_description1': 'Commercial Sale', 'matter_ref': 2.0, 'date_added': datetime.datetime(2022, 3, 18, 0, 0)}, {'fee_earner_full_name1': 'Mr Huseyin Youssouf', 'business_source': 'Employee - HY', 'work_type_description1': 'Commercial Conveyancing', 'matter_ref': 1.0, 'date_added': datetime.datetime(2022, 3, 18, 0, 0)}, {'fee_earner_full_name1': 'Mr Martin Real', 'business_source': 'Charity - Victim Support Havering', 'work_type_description1': 'FFF Private Law FPC / County Court', 'matter_ref': 2.0, 'date_added': datetime.datetime(2022, 3, 18, 0, 0)}, {'fee_earner_full_name1': 'Mr Martin Real', 'business_source': 'Internet - Website - Direct email', 'work_type_description1': 'FFF Private Law FPC / County Court', 'matter_ref': 2.0, 'date_added': datetime.datetime(2022, 3, 18, 0, 0)}, {'fee_earner_full_name1': 'Mr Omer Kahraman', 'business_source': 'Employee - OK', 'work_type_description1': '01-Res-F/hold Sale -Mtge', 'matter_ref': 2.0, 'date_added': datetime.datetime(2022, 3, 18, 0, 0)}, {'fee_earner_full_name1': 'Mr Omer Kahraman', 'business_source': 'Employee - OK', 'work_type_description1': '10-Res-L/hold Purchase', 'matter_ref': 2.0, 'date_added': datetime.datetime(2022, 3, 18, 0, 0)}  ... displaying 10 of 30 total bound parameter sets ...  {'fee_earner_full_name1': 'Mr Omer Kahraman', 'business_source': 'Employee - OK', 'work_type_description1': '03-Res-F/hold Purchase -Mtge', 'matter_ref': 1.0, 'date_added': datetime.datetime(2022, 3, 22, 0, 0)}, {'fee_earner_full_name1': 'Mr Tony Chauhan', 'business_source': 'Employee - TC', 'work_type_description1': 'Commercial Conveyancing', 'matter_ref': 2.0, 'date_added': datetime.datetime(2022, 3, 22, 0, 0)})\n",
      "2022-03-24 16:54:15,520 INFO sqlalchemy.engine.Engine COMMIT\n",
      "Putting all data in Postgresql Server for  [Matters Opened by FE]\n",
      "/home/shashankraj/Documents/DATA_Dump/Final_Df/Payment Received Analysis.csv already exists\n",
      "2022-03-24 16:54:15,570 INFO sqlalchemy.engine.Engine BEGIN (implicit)\n",
      "2022-03-24 16:54:15,570 INFO sqlalchemy.engine.Engine select relname from pg_class c join pg_namespace n on n.oid=c.relnamespace where n.nspname=%(schema)s and relname=%(name)s\n",
      "2022-03-24 16:54:15,571 INFO sqlalchemy.engine.Engine [cached since 1.541s ago] {'schema': 'Bowling_Data', 'name': 'pmt_rcv_analysis'}\n",
      "2022-03-24 16:54:15,639 INFO sqlalchemy.engine.Engine ROLLBACK\n",
      "2022-03-24 16:54:15,679 INFO sqlalchemy.engine.Engine BEGIN (implicit)\n",
      "2022-03-24 16:54:15,682 INFO sqlalchemy.engine.Engine INSERT INTO \"Bowling_Data\".pmt_rcv_analysis (feeearnercode1, mattercode1, client_name, matbranchref, postingdetailsdate, paymentref, departmentcode, feesreceived, feesnet, disballoc, unalloc, payalloc, feesnet1, feesnet2, date_added) VALUES (%(feeearnercode1)s, %(mattercode1)s, %(client_name)s, %(matbranchref)s, %(postingdetailsdate)s, %(paymentref)s, %(departmentcode)s, %(feesreceived)s, %(feesnet)s, %(disballoc)s, %(unalloc)s, %(payalloc)s, %(feesnet1)s, %(feesnet2)s, %(date_added)s)\n",
      "2022-03-24 16:54:15,683 INFO sqlalchemy.engine.Engine [generated in 0.00155s] ({'feeearnercode1': 'AK', 'mattercode1': '048866-0002', 'client_name': 'Miss Bryony Jane Freeman', 'matbranchref': 1.0, 'postingdetailsdate': '18/03/2022', 'paymentref': 'Trf', 'departmentcode': 'RESI ', 'feesreceived': 1782.0, 'feesnet': 1450.0, 'disballoc': 0.0, 'unalloc': 0.0, 'payalloc': 0.0, 'feesnet1': 2800.0, 'feesnet2': 11336.67, 'date_added': datetime.datetime(2022, 3, 18, 0, 0)}, {'feeearnercode1': 'RZ', 'mattercode1': '082393-0001', 'client_name': 'Jezmar Limited', 'matbranchref': 1.0, 'postingdetailsdate': '18/03/2022', 'paymentref': 'Trf', 'departmentcode': 'COMM ', 'feesreceived': 2742.0, 'feesnet': 2250.0, 'disballoc': 0.0, 'unalloc': 0.0, 'payalloc': 0.0, 'feesnet1': 2250.0, 'feesnet2': 11336.67, 'date_added': datetime.datetime(2022, 3, 18, 0, 0)}, {'feeearnercode1': 'OK', 'mattercode1': '081423-0001', 'client_name': 'Mr Okkes Komurcu', 'matbranchref': 1.0, 'postingdetailsdate': '18/03/2022', 'paymentref': 'Trf', 'departmentcode': 'RESI ', 'feesreceived': 1160.0, 'feesnet': 931.67, 'disballoc': 0.0, 'unalloc': 0.0, 'payalloc': 0.0, 'feesnet1': 931.67, 'feesnet2': 11336.67, 'date_added': datetime.datetime(2022, 3, 18, 0, 0)}, {'feeearnercode1': 'MA', 'mattercode1': '081313-0001', 'client_name': 'SHANCO Limited', 'matbranchref': 1.0, 'postingdetailsdate': '18/03/2022', 'paymentref': 'Trf', 'departmentcode': 'CORP ', 'feesreceived': 0.0, 'feesnet': 0.0, 'disballoc': 6.0, 'unalloc': 0.0, 'payalloc': 0.0, 'feesnet1': 0.0, 'feesnet2': 11336.67, 'date_added': datetime.datetime(2022, 3, 18, 0, 0)}, {'feeearnercode1': 'LG', 'mattercode1': '082573-0001', 'client_name': 'Mrs Jaishree Rughani', 'matbranchref': 1.0, 'postingdetailsdate': '18/03/2022', 'paymentref': 'Trf', 'departmentcode': 'RESI ', 'feesreceived': 0.0, 'feesnet': 0.0, 'disballoc': 6.0, 'unalloc': 0.0, 'payalloc': 0.0, 'feesnet1': 1500.0, 'feesnet2': 11336.67, 'date_added': datetime.datetime(2022, 3, 18, 0, 0)}, {'feeearnercode1': 'LG', 'mattercode1': '082552-0001', 'client_name': 'Mrs Gulperi Kestane', 'matbranchref': 1.0, 'postingdetailsdate': '18/03/2022', 'paymentref': 'Trf', 'departmentcode': 'RESI ', 'feesreceived': 209.0, 'feesnet': 0.0, 'disballoc': 0.0, 'unalloc': 0.0, 'payalloc': 0.0, 'feesnet1': 1500.0, 'feesnet2': 11336.67, 'date_added': datetime.datetime(2022, 3, 18, 0, 0)}, {'feeearnercode1': 'LG', 'mattercode1': '082261-0001', 'client_name': 'Mr Fredrik Johannes Nyberg', 'matbranchref': 1.0, 'postingdetailsdate': '18/03/2022', 'paymentref': 'Trf', 'departmentcode': 'RESI ', 'feesreceived': 0.0, 'feesnet': 0.0, 'disballoc': 295.0, 'unalloc': 0.0, 'payalloc': 0.0, 'feesnet1': 1500.0, 'feesnet2': 11336.67, 'date_added': datetime.datetime(2022, 3, 18, 0, 0)}, {'feeearnercode1': 'LG', 'mattercode1': '082194-0001', 'client_name': 'Ms Hazel Laura Coleman', 'matbranchref': 1.0, 'postingdetailsdate': '18/03/2022', 'paymentref': 'Trf', 'departmentcode': 'RESI ', 'feesreceived': 0.0, 'feesnet': 0.0, 'disballoc': 3.0, 'unalloc': 0.0, 'payalloc': 0.0, 'feesnet1': 1500.0, 'feesnet2': 11336.67, 'date_added': datetime.datetime(2022, 3, 18, 0, 0)}  ... displaying 10 of 95 total bound parameter sets ...  {'feeearnercode1': 'JAS', 'mattercode1': '051961-0001', 'client_name': 'Mr Veysal Das', 'matbranchref': 1.0, 'postingdetailsdate': '22/03/2022', 'paymentref': 'Trf2', 'departmentcode': 'LITO ', 'feesreceived': 15700.0, 'feesnet': 13083.33, 'disballoc': 0.0, 'unalloc': 0.0, 'payalloc': 0.0, 'feesnet1': 13083.33, 'feesnet2': 36306.29, 'date_added': datetime.datetime(2022, 3, 22, 0, 0)}, {'feeearnercode1': 'SJ', 'mattercode1': '069103-0008', 'client_name': 'Mr Erdal Metin Fahri', 'matbranchref': 1.0, 'postingdetailsdate': '22/03/2022', 'paymentref': 'Trf', 'departmentcode': 'LATL ', 'feesreceived': 1632.0, 'feesnet': 1360.0, 'disballoc': 0.0, 'unalloc': 0.0, 'payalloc': 0.0, 'feesnet1': 2860.0, 'feesnet2': 36306.29, 'date_added': datetime.datetime(2022, 3, 22, 0, 0)})\n",
      "2022-03-24 16:54:15,806 INFO sqlalchemy.engine.Engine COMMIT\n",
      "Putting all data in Postgresql Server for  [Payment Received Analysis]\n",
      "/home/shashankraj/Documents/DATA_Dump/Final_Df/Total Hours by Fee Earner-With Billings All.csv already exists\n",
      "2022-03-24 16:54:15,860 INFO sqlalchemy.engine.Engine BEGIN (implicit)\n",
      "2022-03-24 16:54:15,861 INFO sqlalchemy.engine.Engine select relname from pg_class c join pg_namespace n on n.oid=c.relnamespace where n.nspname=%(schema)s and relname=%(name)s\n",
      "2022-03-24 16:54:15,862 INFO sqlalchemy.engine.Engine [cached since 1.832s ago] {'schema': 'Bowling_Data', 'name': 'tot_hrs_by_fe'}\n",
      "2022-03-24 16:54:15,932 INFO sqlalchemy.engine.Engine ROLLBACK\n",
      "2022-03-24 16:54:15,973 INFO sqlalchemy.engine.Engine BEGIN (implicit)\n",
      "2022-03-24 16:54:15,987 INFO sqlalchemy.engine.Engine INSERT INTO \"Bowling_Data\".tot_hrs_by_fe (earnerref, earnername, recordedhours, recordedhours1, recordedvalue, nonchargehours, nonchargehours1, nonchargevalue, wohours, wohours1, wovalue, totalhour, totalhour1, totalvalue, netbillings, date_added) VALUES (%(earnerref)s, %(earnername)s, %(recordedhours)s, %(recordedhours1)s, %(recordedvalue)s, %(nonchargehours)s, %(nonchargehours1)s, %(nonchargevalue)s, %(wohours)s, %(wohours1)s, %(wovalue)s, %(totalhour)s, %(totalhour1)s, %(totalvalue)s, %(netbillings)s, %(date_added)s)\n",
      "2022-03-24 16:54:15,988 INFO sqlalchemy.engine.Engine [generated in 0.01129s] ({'earnerref': 'AA', 'earnername': 'AA Missing', 'recordedhours': '0:00', 'recordedhours1': 0.0, 'recordedvalue': 0.0, 'nonchargehours': '0:00', 'nonchargehours1': 0.0, 'nonchargevalue': 0.0, 'wohours': '0:00', 'wohours1': 0.0, 'wovalue': 0.0, 'totalhour': '0:00', 'totalhour1': 0.0, 'totalvalue': 0.0, 'netbillings': 0.0, 'date_added': datetime.datetime(2022, 3, 18, 0, 0)}, {'earnerref': 'NK', 'earnername': 'Nasir Khan', 'recordedhours': '0:00', 'recordedhours1': 0.0, 'recordedvalue': 0.0, 'nonchargehours': '0:00', 'nonchargehours1': 0.0, 'nonchargevalue': 0.0, 'wohours': '0:00', 'wohours1': 0.0, 'wovalue': 0.0, 'totalhour': '0:00', 'totalhour1': 0.0, 'totalvalue': 0.0, 'netbillings': 0.0, 'date_added': datetime.datetime(2022, 3, 18, 0, 0)}, {'earnerref': 'NLM', 'earnername': 'Nicholas Maestri', 'recordedhours': '0:00', 'recordedhours1': 0.0, 'recordedvalue': 0.0, 'nonchargehours': '0:00', 'nonchargehours1': 0.0, 'nonchargevalue': 0.0, 'wohours': '0:00', 'wohours1': 0.0, 'wovalue': 0.0, 'totalhour': '0:00', 'totalhour1': 0.0, 'totalvalue': 0.0, 'netbillings': 0.0, 'date_added': datetime.datetime(2022, 3, 18, 0, 0)}, {'earnerref': 'NM', 'earnername': 'Nisha Minhas', 'recordedhours': '0:00', 'recordedhours1': 0.0, 'recordedvalue': 0.0, 'nonchargehours': '0:00', 'nonchargehours1': 0.0, 'nonchargevalue': 0.0, 'wohours': '0:00', 'wohours1': 0.0, 'wovalue': 0.0, 'totalhour': '0:00', 'totalhour1': 0.0, 'totalvalue': 0.0, 'netbillings': 0.0, 'date_added': datetime.datetime(2022, 3, 18, 0, 0)}, {'earnerref': 'NT', 'earnername': 'Nick Thomas', 'recordedhours': '0:00', 'recordedhours1': 0.0, 'recordedvalue': 0.0, 'nonchargehours': '0:00', 'nonchargehours1': 0.0, 'nonchargevalue': 0.0, 'wohours': '0:00', 'wohours1': 0.0, 'wovalue': 0.0, 'totalhour': '0:00', 'totalhour1': 0.0, 'totalvalue': 0.0, 'netbillings': 0.0, 'date_added': datetime.datetime(2022, 3, 18, 0, 0)}, {'earnerref': 'NW', 'earnername': 'Nathan Wilkins', 'recordedhours': '0:00', 'recordedhours1': 0.0, 'recordedvalue': 0.0, 'nonchargehours': '0:00', 'nonchargehours1': 0.0, 'nonchargevalue': 0.0, 'wohours': '0:00', 'wohours1': 0.0, 'wovalue': 0.0, 'totalhour': '0:00', 'totalhour1': 0.0, 'totalvalue': 0.0, 'netbillings': 0.0, 'date_added': datetime.datetime(2022, 3, 18, 0, 0)}, {'earnerref': 'NY', 'earnername': 'NY Missing', 'recordedhours': '0:00', 'recordedhours1': 0.0, 'recordedvalue': 0.0, 'nonchargehours': '0:00', 'nonchargehours1': 0.0, 'nonchargevalue': 0.0, 'wohours': '0:00', 'wohours1': 0.0, 'wovalue': 0.0, 'totalhour': '0:00', 'totalhour1': 0.0, 'totalvalue': 0.0, 'netbillings': 0.0, 'date_added': datetime.datetime(2022, 3, 18, 0, 0)}, {'earnerref': 'OCD2', 'earnername': 'OCD2 Missing', 'recordedhours': '0:00', 'recordedhours1': 0.0, 'recordedvalue': 0.0, 'nonchargehours': '0:00', 'nonchargehours1': 0.0, 'nonchargevalue': 0.0, 'wohours': '0:00', 'wohours1': 0.0, 'wovalue': 0.0, 'totalhour': '0:00', 'totalhour1': 0.0, 'totalvalue': 0.0, 'netbillings': 0.0, 'date_added': datetime.datetime(2022, 3, 18, 0, 0)}  ... displaying 10 of 1346 total bound parameter sets ...  {'earnerref': 'HZC', 'earnername': 'Halima Chugtai', 'recordedhours': '0:00', 'recordedhours1': 0.0, 'recordedvalue': 0.0, 'nonchargehours': '0:00', 'nonchargehours1': 0.0, 'nonchargevalue': 0.0, 'wohours': '0:00', 'wohours1': 0.0, 'wovalue': 0.0, 'totalhour': '0:00', 'totalhour1': 0.0, 'totalvalue': 0.0, 'netbillings': 0.0, 'date_added': datetime.datetime(2022, 3, 22, 0, 0)}, {'earnerref': 'ZZ', 'earnername': 'Bad Debts Specific Provision', 'recordedhours': '0:00', 'recordedhours1': 0.0, 'recordedvalue': 0.0, 'nonchargehours': '0:00', 'nonchargehours1': 0.0, 'nonchargevalue': 0.0, 'wohours': '0:00', 'wohours1': 0.0, 'wovalue': 0.0, 'totalhour': '0:00', 'totalhour1': 0.0, 'totalvalue': 0.0, 'netbillings': 0.0, 'date_added': datetime.datetime(2022, 3, 22, 0, 0)})\n",
      "2022-03-24 16:54:16,292 INFO sqlalchemy.engine.Engine COMMIT\n",
      "Putting all data in Postgresql Server for  [Total Hours by Fee Earner-With Billings All]\n"
     ]
    }
   ],
   "source": [
    "for file in all_files.keys():\n",
    "        all_files[file].columns = [cols.lower() for cols in all_files[file].columns]\n",
    "        fname = final_files+\"/\"+file+\".csv\"\n",
    "        if os.path.exists(fname):\n",
    "            print(f'{fname} already exists')\n",
    "            all_files[file].to_csv(final_files+\"/\"+file+\".csv\",header=False,mode=\"a\",index=False)\n",
    "        else:\n",
    "            print(f'Creating DF {fname}')\n",
    "            all_files[file].to_csv(final_files+\"/\"+file+\".csv\",mode=\"a\",index=False)\n",
    "        \n",
    "        try: \n",
    "            all_files[file].to_sql(schema_ref[file],con=engine,if_exists='append',schema='Bowling_Data',index=None)\n",
    "        except:\n",
    "            print(f\"***** Unable to write to Database for file [{file}]********* \")\n",
    "        else:\n",
    "            print(f\"Putting all data in Postgresql Server for  [{file}]\")"
   ]
  },
  {
   "cell_type": "code",
   "execution_count": 7,
   "metadata": {},
   "outputs": [
    {
     "name": "stdout",
     "output_type": "stream",
     "text": [
      "Processing Client Billing Descending.csv\n",
      "Name is /home/shashankraj/Documents/DATA_Dump/Backup/Client Billing Descending.parquet.gzip\n",
      "File already Exists, Removing\n",
      "**************************************************\n",
      "Processing Fee Breakdown by Dept and Fee Earner.csv\n",
      "Name is /home/shashankraj/Documents/DATA_Dump/Backup/Fee Breakdown by Dept and Fee Earner.parquet.gzip\n",
      "File already Exists, Removing\n",
      "**************************************************\n",
      "Processing Fee Summary by Dept and Fee Earner.csv\n",
      "Name is /home/shashankraj/Documents/DATA_Dump/Backup/Fee Summary by Dept and Fee Earner.parquet.gzip\n",
      "File already Exists, Removing\n",
      "**************************************************\n",
      "Processing Fees Billed.csv\n",
      "Name is /home/shashankraj/Documents/DATA_Dump/Backup/Fees Billed.parquet.gzip\n",
      "File already Exists, Removing\n",
      "**************************************************\n",
      "Processing Matter Source of Business inc Matter Bills (Bill Date).csv\n",
      "Name is /home/shashankraj/Documents/DATA_Dump/Backup/Matter Source of Business inc Matter Bills (Bill Date).parquet.gzip\n",
      "File already Exists, Removing\n",
      "**************************************************\n",
      "Processing Matters Opened by FE.csv\n",
      "Name is /home/shashankraj/Documents/DATA_Dump/Backup/Matters Opened by FE.parquet.gzip\n",
      "File already Exists, Removing\n",
      "**************************************************\n",
      "Processing Payment Received Analysis.csv\n",
      "Name is /home/shashankraj/Documents/DATA_Dump/Backup/Payment Received Analysis.parquet.gzip\n",
      "File already Exists, Removing\n",
      "**************************************************\n",
      "Processing Total Hours by Fee Earner-With Billings All.csv\n",
      "Name is /home/shashankraj/Documents/DATA_Dump/Backup/Total Hours by Fee Earner-With Billings All.parquet.gzip\n",
      "File already Exists, Removing\n",
      "**************************************************\n"
     ]
    }
   ],
   "source": [
    "for csv_file in os.listdir(final_files):\n",
    "    print(f'Processing {csv_file}')\n",
    "    if csv_file.endswith('.csv'):\n",
    "        tmp_df = pd.read_csv(final_files+\"/\"+csv_file)\n",
    "        tmp_df['date_added'] = pd.to_datetime(tmp_df['date_added'])\n",
    "        fname = backup+\"/\"+csv_file.split(\".\")[0]+\".parquet.gzip\"\n",
    "        print(f'Name is {fname}')\n",
    "        if os.path.exists(fname):\n",
    "            print(f'File already Exists, Removing')\n",
    "            os.remove(fname)\n",
    "        tmp_df.to_parquet(fname,compression = 'gzip')\n",
    "        print(\"*\"*50)"
   ]
  },
  {
   "cell_type": "code",
   "execution_count": 8,
   "metadata": {},
   "outputs": [
    {
     "name": "stdout",
     "output_type": "stream",
     "text": [
      "Performing Cleanup\n"
     ]
    },
    {
     "data": {
      "text/plain": [
       "[]"
      ]
     },
     "execution_count": 8,
     "metadata": {},
     "output_type": "execute_result"
    }
   ],
   "source": [
    "print(\"Performing Cleanup\")\n",
    "\n",
    "[os.remove(file_loc+\"/Processed/\"+file) for file in os.listdir(file_loc+\"/Processed\")]\n",
    "[os.remove(file_loc+\"/Unprocessed/\"+file) for file in os.listdir(file_loc+\"/Unprocessed\")]\n",
    "[os.remove(file_loc+\"/file_trigger/\"+file) for file in os.listdir(file_loc+\"/file_trigger\")]\n",
    "[os.remove(file_loc+\"/\"+file) for file in os.listdir(file_loc) if file.endswith('.csv')]"
   ]
  },
  {
   "cell_type": "code",
   "execution_count": 9,
   "metadata": {},
   "outputs": [],
   "source": [
    "# df_cb = all_files['Client Billing Descending']\n",
    "# df_cb.head()\n",
    "# \"Cengiz Peri\" and pd.Timestamp(datetime.date(2022,3,2)) in df_cb[\"date_added\"].values"
   ]
  },
  {
   "cell_type": "code",
   "execution_count": 10,
   "metadata": {},
   "outputs": [
    {
     "data": {
      "text/plain": [
       "['Backup',\n",
       " 'file_trigger',\n",
       " 'Final_Df',\n",
       " 'Logs',\n",
       " 'Old Data Dump',\n",
       " 'Processed',\n",
       " 'Unprocessed']"
      ]
     },
     "execution_count": 10,
     "metadata": {},
     "output_type": "execute_result"
    }
   ],
   "source": [
    "os.listdir(file_loc)"
   ]
  }
 ],
 "metadata": {
  "interpreter": {
   "hash": "ecf5722fdaf1897a315d257d89d94520bfcaa453217d5becf09b39e73618b0de"
  },
  "kernelspec": {
   "display_name": "Python 3.9.7 ('base')",
   "language": "python",
   "name": "python3"
  },
  "language_info": {
   "codemirror_mode": {
    "name": "ipython",
    "version": 3
   },
   "file_extension": ".py",
   "mimetype": "text/x-python",
   "name": "python",
   "nbconvert_exporter": "python",
   "pygments_lexer": "ipython3",
   "version": "3.10.2"
  },
  "orig_nbformat": 4
 },
 "nbformat": 4,
 "nbformat_minor": 2
}
