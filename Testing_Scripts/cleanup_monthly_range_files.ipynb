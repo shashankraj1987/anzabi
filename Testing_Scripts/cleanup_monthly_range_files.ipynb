{
 "cells": [
  {
   "cell_type": "code",
   "execution_count": 3,
   "metadata": {},
   "outputs": [],
   "source": [
    "import os \n",
    "import shutil\n",
    "import re"
   ]
  },
  {
   "cell_type": "code",
   "execution_count": 16,
   "metadata": {},
   "outputs": [
    {
     "data": {
      "text/plain": [
       "['Total Hours by Fee Earner-With Billings All_01032022.csv']"
      ]
     },
     "execution_count": 16,
     "metadata": {},
     "output_type": "execute_result"
    }
   ],
   "source": [
    "f2 = ('Client Billing Descending_01032022.csv','Fee Breakdown by Dept and Fee Earner_01032022.csv',\n",
    "'Fee Summary by Dept and Fee Earner_01032022.csv','Fees Billed_01032022.csv',\n",
    "'Matter Source of Business inc Matter Bills (Bill Date)_01032022.csv','Matters Opened by FE_01032022.csv',\n",
    "'Payment Received Analysis_01032022.csv','Total Hours by Fee Earner-With Billings All_01032022.csv')\n",
    "\n",
    "#[files for files in file_list if len(re.compile(r'([fF]ee[\\sa-z-A-Z\\s]*_\\d+.csv)').findall(files))]\n",
    "\n",
    "[x for x in f2 if len(re.compile(r'([tT]otal[\\sa-z-A-Z\\s]*_\\d+.csv)').findall(x))]"
   ]
  },
  {
   "cell_type": "code",
   "execution_count": 4,
   "metadata": {},
   "outputs": [
    {
     "name": "stdout",
     "output_type": "stream",
     "text": [
      "['Fee Breakdown by Dept and Fee Earner_01032022.csv', 'Fee Summary by Dept and Fee Earner_03032022.csv', 'Fees Billed_03032022.csv', 'Fee Earner-With Billings All_01032022.csv', 'Fees by Worktype Pie Chart_01032022.csv']\n"
     ]
    }
   ],
   "source": [
    "# fname = '''\n",
    "#  'Payment Received Analysis_01112021to30112021.csv',\n",
    "#  'Client Billing Descending_05012022.csv',\n",
    "#  'Fees Billed_01112021to08112021.csv'\n",
    "#  '''\n",
    "\n",
    "# pattern = re.compile(r'.*?_\\d*to\\d*.csv')\n",
    "# match = pattern.findall(fname)\n",
    "# print(match)\n",
    "\n",
    "f2 = '''\n",
    "'Fee Breakdown by Dept and Fee Earner_01032022.csv',\n",
    "'Fee Summary by Dept and Fee Earner_03032022.csv',\n",
    "'Fees Billed_03032022.csv',\n",
    "'Matter Source of Business inc Matter Bills (Bill Date)_01032022.csv',\n",
    "'client Billing Descending_05012022.csv',\n",
    "'Payment Received Analysis_02032022.csv',\n",
    "'Total Hours by Fee Earner-With Billings All_01032022.csv',\n",
    "'Fees by Worktype Pie Chart_01032022.csv'\n",
    "'''\n",
    "\n",
    "# f2 = '''\n",
    "# 'Fees Breakdown by Dept and Fee Earner_01032022.csv',\n",
    "# 'Fee'\n",
    "# '''\n",
    "\n",
    "pattern = re.compile(r'([fF]ee[\\sa-z-A-Z\\s]*_\\d+.csv)')\n",
    "#pattern = re.compile(r'[\\sa-zA-Z\\s]+Pie \\w+_\\d+.csv')\n",
    "print(pattern.findall(f2))"
   ]
  },
  {
   "cell_type": "code",
   "execution_count": 3,
   "metadata": {},
   "outputs": [
    {
     "name": "stdout",
     "output_type": "stream",
     "text": [
      "\u001b[H\u001b[2JAnalyzing Folder ... \n"
     ]
    }
   ],
   "source": [
    "os.system('clear')\n",
    "\n",
    "file_loc = \"/home/shashankraj/Documents/DATA/\"\n",
    "\n",
    "if os.path.exists(file_loc):\n",
    "    print(\"Analyzing Folder ... \")\n",
    "else: \n",
    "    raise FileNotFoundError(\"File not found in the location\")"
   ]
  },
  {
   "cell_type": "code",
   "execution_count": 4,
   "metadata": {},
   "outputs": [],
   "source": [
    "pattern = re.compile(r'.*?_\\d*to\\d*.csv')\n",
    "base_location = \"/home/shashankraj/Documents/DATA/\""
   ]
  },
  {
   "cell_type": "code",
   "execution_count": 9,
   "metadata": {},
   "outputs": [],
   "source": [
    "csv_files = [files for files in os.listdir(base_location) if files.endswith(\".csv\")]\n",
    "monthly_files = [files for files in os.listdir(base_location) if len(pattern.findall(files))]"
   ]
  },
  {
   "cell_type": "code",
   "execution_count": null,
   "metadata": {},
   "outputs": [],
   "source": [
    "src = base_location\n",
    "target = \"/home/shashankraj/Documents/DATA/Monthly_Files/\"\n",
    "\n",
    "def move_file(file_name):\n",
    "    shutil .move(src+file_name,target+file_name)"
   ]
  },
  {
   "cell_type": "code",
   "execution_count": 11,
   "metadata": {},
   "outputs": [
    {
     "name": "stdout",
     "output_type": "stream",
     "text": [
      "Downloaded 91 in 0.013280868530273438 seconds\n"
     ]
    }
   ],
   "source": [
    "import concurrent.futures\n",
    "import requests\n",
    "import threading\n",
    "import time\n",
    "\n",
    "thread_local = threading.local()\n",
    "src = base_location\n",
    "target = \"/home/shashankraj/Documents/DATA/Monthly_Files/\"\n",
    "\n",
    "def get_session():\n",
    "    if not hasattr(thread_local, \"session\"):\n",
    "        thread_local.session = requests.Session()\n",
    "    return thread_local.session\n",
    "\n",
    "def move_file(file_name):\n",
    "    shutil.move(src+file_name,target+file_name)\n",
    "\n",
    "def move_all_files(csv_files):\n",
    "    with concurrent.futures.ThreadPoolExecutor(max_workers=5) as executor:\n",
    "        executor.map(move_file,csv_files)\n",
    "\n",
    "if __name__ == \"__main__\":\n",
    "    start_time = time.time()\n",
    "    move_all_files(monthly_files)\n",
    "    duration = time.time() - start_time\n",
    "    print(f\"Moved [{len(monthly_files)}] files in {duration} seconds\")\n",
    "\n",
    "## Downloaded 91 in 0.013280868530273438 seconds "
   ]
  }
 ],
 "metadata": {
  "interpreter": {
   "hash": "efeb6664015e98725bbb5b8b87814de131c81a1fd666b7e6d11b4ba6e020f0b0"
  },
  "kernelspec": {
   "display_name": "Python 3.10.0 64-bit ('venv': venv)",
   "language": "python",
   "name": "python3"
  },
  "language_info": {
   "codemirror_mode": {
    "name": "ipython",
    "version": 3
   },
   "file_extension": ".py",
   "mimetype": "text/x-python",
   "name": "python",
   "nbconvert_exporter": "python",
   "pygments_lexer": "ipython3",
   "version": "3.9.6"
  },
  "orig_nbformat": 4
 },
 "nbformat": 4,
 "nbformat_minor": 2
}
