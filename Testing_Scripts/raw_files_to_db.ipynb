{
 "cells": [
  {
   "cell_type": "code",
   "execution_count": 3,
   "metadata": {},
   "outputs": [],
   "source": [
    "import sqlalchemy as sa\n",
    "from sqlalchemy import create_engine\n",
    "from sqlalchemy import text\n",
    "import os \n",
    "from datetime import datetime\n",
    "\n",
    "import sqlite3 as sql3\n",
    "from sqlite3 import Error"
   ]
  },
  {
   "cell_type": "markdown",
   "metadata": {},
   "source": [
    "First, write these files to a Temporary SQLlite Database"
   ]
  },
  {
   "cell_type": "code",
   "execution_count": 4,
   "metadata": {},
   "outputs": [],
   "source": [
    "backup_db = r\"D:\\\\One Drive Anza\\\\OneDrive - Anza Services LLP\\\\Backup\\\\raw_data.db\"\n",
    "\n",
    "if not os.path.exists(backup_db):\n",
    "    engine = sa.create_engine(f\"sqlite:///{backup_db}\", echo = True, future = True)"
   ]
  },
  {
   "cell_type": "code",
   "execution_count": null,
   "metadata": {},
   "outputs": [],
   "source": [
    "with engine.connect() as conn:\n",
    "    result = conn.execute(text(\"CREATE TABLE test2(x int, y int)\"))\n",
    "    conn.execute(\n",
    "        text(\"INSERT INTO test2(x,y) VALUES (:x, :y)\"),\n",
    "        [{\"x\":1,\"y\":2}, {\"x\":6,\"y\":4}]\n",
    "        )\n"
   ]
  }
 ],
 "metadata": {
  "interpreter": {
   "hash": "51566a6452fa46aa58fd4f83c1c64917cf743f71110fdbc540a638c66b3982a4"
  },
  "kernelspec": {
   "display_name": "Python 3.10.2 64-bit (system)",
   "language": "python",
   "name": "python3"
  },
  "language_info": {
   "codemirror_mode": {
    "name": "ipython",
    "version": 3
   },
   "file_extension": ".py",
   "mimetype": "text/x-python",
   "name": "python",
   "nbconvert_exporter": "python",
   "pygments_lexer": "ipython3",
   "version": "3.10.2"
  },
  "orig_nbformat": 4
 },
 "nbformat": 4,
 "nbformat_minor": 2
}
