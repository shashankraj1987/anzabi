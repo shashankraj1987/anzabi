{
 "cells": [
  {
   "cell_type": "code",
   "execution_count": null,
   "metadata": {},
   "outputs": [],
   "source": [
    "import sqlalchemy as sa\n",
    "from sqlalchemy import create_engine as ca\n",
    "from sqlalchemy import text, insert, update, delete, MetaData, Table, Column, Integer, String\n",
    "\n",
    "import os \n",
    "import psycopg2 as ps\n",
    "from datetime import datetime"
   ]
  },
  {
   "cell_type": "code",
   "execution_count": null,
   "metadata": {},
   "outputs": [],
   "source": [
    "dict = {}\n",
    "dict[\"client_billing\"] = \"\"\"\n",
    "create table \"Raw_Data\".\"client_billing\"(\n",
    "\tsrNo SERIAL primary key,\n",
    "\tClient_Surname1 varchar not null,\n",
    "\tTotal_Profit1 float, \n",
    "\tTotal_Bill_Amount float,\n",
    "\tTotal_Profit float not null, \n",
    "\tTotal_Bill_Amount1 float not null, \n",
    "\tDate_Added date not null\n",
    ")\"\"\"\n",
    "\n",
    "dict[\"fee_brkdn_dept_fe\"] = \"\"\"\n",
    "create table \"Raw_Data\".\"fee_brkdn_dept_fe\"(\n",
    "\tsrNo SERIAL primary key,\n",
    "\tMatter_Dept_Dept_Name varchar not null,\n",
    "\tFee_Earner_Reference varchar(10) not null, \n",
    "\tMatter_Ref varchar not null, \n",
    "\tProfit float8 not null,\n",
    "\tNon_Vatable_Disbursements int, \n",
    "\tVatable_Disbursements float8, \n",
    "\tVAT_Amount float8 not null, \n",
    "\tBill_Amount float8 not null, \n",
    "\tWIP_Cost_Billed float8 not null,\n",
    "\tDate_Added date not null\n",
    ")\"\"\"\n",
    "\n",
    "dict[\"fee_smry_dept_fe\"] = \"\"\"\n",
    "create table \"Raw_Data\".\"fee_smry_dept_fe\"(\n",
    "\tsrNo SERIAL primary key,\n",
    "\tMatter_Dept_Dept_Name varchar not null,\n",
    "\tFee_Earner_Reference1 varchar(10) not null, \n",
    "\tProfit float8 not null, \n",
    "\tDate_Added date not null\n",
    ")\"\"\"\n",
    "\n",
    "dict[\"fees_billed\"] = \"\"\"\n",
    "create table \"Raw_Data\".\"fees_billed\"(\n",
    "\tsrno SERIAL primary key,\n",
    "\tfeeref varchar(10) not null, \n",
    "\ttnx_month varchar not null,\n",
    "\tsplit_amount float8,\n",
    "\tDate_Added date not null\n",
    ")\"\"\"\n",
    "\n",
    "dict[\"mttr_src_ref\"] = \"\"\"\n",
    "create table \"Raw_Data\".\"mttr_src_ref\"(\n",
    "\tsrno SERIAL primary key,\n",
    "\tFee_Earner_Reference1 varchar(10) not null, \n",
    "\tBusiness_Source1 varchar not null,\n",
    "\tClient_Name1 varchar not null, \n",
    "\tMatter_Ref varchar not null, \n",
    "\tMatter_Description varchar,\n",
    "\tBill_Date date not null,\n",
    "\tBill_Ref varchar(10) not null, \n",
    "\tBill_Amount int,\n",
    "\tDate_Added date not null\n",
    ")\"\"\"\n",
    "\n",
    "dict[\"mttr_opn_by_fe\"] = \"\"\"\n",
    "create table \"Raw_Data\".\"mttr_opn_by_fe\"(\n",
    "\tsrno SERIAL primary key,\n",
    "\tFee_Earner_Full_Name1 varchar not null, \n",
    "\tBusiness_Source varchar not null, \n",
    "\tWork_Type_Description1 varchar not null,\n",
    "\tMatter_Ref varchar(10) not null,\n",
    "\tDate_Added date not null\n",
    ")\"\"\"\n",
    "\n",
    "dict[\"tot_hrs_by_fe\"] = \"\"\"\n",
    "create table \"Raw_Data\".\"tot_hrs_by_fe\"(\n",
    "\tsrno SERIAL primary key,\n",
    "\tEarnerRef varchar(10) not null, \n",
    "\tEarnerName varchar not null, \n",
    "\tRecordedHours varchar not null,\n",
    "\tRecordedHours1 float8, \n",
    "\tRecordedValue int, \n",
    "\tNonChargeHours varchar not null,\n",
    "\tNonChargeHours1 float8,\n",
    "\tNonChargeValue int,\n",
    "\tWOHours varchar not null,\n",
    "\tWOHours1 float8,\n",
    "\tWOValue float8,\n",
    "\tTotalHour varchar not null,\n",
    "\tTotalHour1 float8,\n",
    "\tTotalValue int, \n",
    "\tNetBillings float8,\n",
    "\tDate_Added date not null\n",
    ")\"\"\"\n"
   ]
  },
  {
   "cell_type": "code",
   "execution_count": null,
   "metadata": {},
   "outputs": [],
   "source": [
    "loc = r\"D:\\\\One Drive Anza\\\\OneDrive - Anza Services LLP\\\\Backup\"\n",
    "backup_db = loc+\"\\\\\"+\"raw_data.db\"\n",
    "\n",
    "host_name = \"localhost\"\n",
    "db_name = \"AnzaBI\"\n",
    "port_name = \"5432\"\n",
    "user_name = \"sraj\" \n",
    "usr_password = \"password\"\n",
    "schema_name=\"Raw_Data\""
   ]
  },
  {
   "cell_type": "code",
   "execution_count": null,
   "metadata": {},
   "outputs": [],
   "source": [
    "import pandas as pd \n",
    "\n",
    "df = pd.read_csv(r\"D:\\Learning+Offline\\DATA_Dump\\Final_Df\\Client Billing Descending.csv\",index_col=False)\n",
    "df.head()"
   ]
  },
  {
   "cell_type": "code",
   "execution_count": null,
   "metadata": {},
   "outputs": [],
   "source": [
    "db_string = f\"postgresql://{user_name}:{usr_password}@{host_name}:{port_name}/{db_name}\"\n",
    "#+psycopg2\n",
    "engine = sa.create_engine(db_string, echo=True)"
   ]
  },
  {
   "cell_type": "code",
   "execution_count": null,
   "metadata": {},
   "outputs": [],
   "source": [
    "sql_stmt = 'Select * from \"Raw_Data\".client_billing LIMIT 5'\n",
    "\n",
    "with engine.connect() as conn:\n",
    "    result = conn.execute(text(sql_stmt))\n",
    "    for row in result:\n",
    "        print(row)"
   ]
  },
  {
   "cell_type": "code",
   "execution_count": null,
   "metadata": {},
   "outputs": [],
   "source": [
    "#q = \"INSERT INTO client_billing(Client_Surname1,Total_Profit1,Total_Bill_Amount,Total_Profit,Total_Bill_Amount1,Date_Added) VALUES()\"\n",
    "# q = \"INSERT INTO client_billing(Client_Surname1,Total_Profit1,Total_Bill_Amount,Total_Profit,Total_Bill_Amount1,Date_Added) VALUES(?, ?, ?, ?, ?, ?)\"\n",
    "# with engine.connect() as conn:\n",
    "#     tot_rows = 0\n",
    "#     for index,val in df.iterrows():\n",
    "#         print(val)\n",
    "#         r_set = conn.execute(q,val)\n",
    "#         tot_rows+=1\n",
    "#     print(f'Total [{tot_rows}] were successfully inserted in this operation ')\n",
    "\n",
    "# conn.close()"
   ]
  },
  {
   "cell_type": "code",
   "execution_count": null,
   "metadata": {},
   "outputs": [],
   "source": [
    "metadata = MetaData()\n",
    "tbl_nm = '\"Raw_Data\".fees_billed'\n",
    "table_ins = Table(tbl_nm,metadata,autoload=True, autoload_with=engine)\n",
    "\n",
    "print(repr(table_ins))"
   ]
  }
 ],
 "metadata": {
  "interpreter": {
   "hash": "51566a6452fa46aa58fd4f83c1c64917cf743f71110fdbc540a638c66b3982a4"
  },
  "kernelspec": {
   "display_name": "Python 3.10.2 64-bit (system)",
   "language": "python",
   "name": "python3"
  },
  "language_info": {
   "codemirror_mode": {
    "name": "ipython",
    "version": 3
   },
   "file_extension": ".py",
   "mimetype": "text/x-python",
   "name": "python",
   "nbconvert_exporter": "python",
   "pygments_lexer": "ipython3",
   "version": "3.10.2"
  },
  "orig_nbformat": 4
 },
 "nbformat": 4,
 "nbformat_minor": 2
}
