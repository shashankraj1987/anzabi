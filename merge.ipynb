{
    "cells": [
        {
            "cell_type": "code",
            "execution_count": null,
            "metadata": {},
            "outputs": [],
            "source": [
                "import pandas as pd\n",
                "import re\n",
                "import os"
            ]
        },
        {
            "cell_type": "code",
            "execution_count": null,
            "metadata": {},
            "outputs": [],
            "source": [
                "path = \"/home/shashankraj/Documents/DATA/extracted/\"\n",
                "\n",
                "\n",
                "df1 = pd.read_csv(path+\"Fee_brkdwn_dept_fee_ernr/Fee Breakdown by Dept and Fee Earner_25102021.csv\",skiprows=3,index_col=0)\n",
                "df2 = pd.read_csv(path+\"Fees_Billed/Fees Billed_25102021.csv\",skiprows=3,index_col=0)\n",
                "df3 = pd.read_csv(path+\"Fee Summary by Dept and Fee Earner/Fee Summary by Dept and Fee Earner_25102021.csv\", skiprows=3,index_col=0) ## skip it \n"
            ]
        },
        {
            "cell_type": "code",
            "execution_count": null,
            "metadata": {},
            "outputs": [],
            "source": [
                "def remove_cols(df):\n",
                "    cols = df.columns\n",
                "    new_cols = []\n",
                "\n",
                "    for x in cols:\n",
                "        txt_chk = re.compile(r'Textbox')\n",
                "        if txt_chk.search(x)== None:\n",
                "            new_cols.append(x)\n",
                "        else: \n",
                "            continue\n",
                "    \n",
                "    return(new_cols)"
            ]
        },
        {
            "cell_type": "code",
            "execution_count": null,
            "metadata": {},
            "outputs": [],
            "source": [
                "df1=df1[remove_cols(df1)]\n",
                "df1.head()"
            ]
        },
        {
            "cell_type": "code",
            "execution_count": null,
            "metadata": {},
            "outputs": [],
            "source": [
                "df2=df2[remove_cols(df2)]\n",
                "df2.head()"
            ]
        },
        {
            "cell_type": "code",
            "execution_count": null,
            "metadata": {},
            "outputs": [],
            "source": [
                "df3=df3[remove_cols(df3)]\n",
                "df3.head()"
            ]
        },
        {
            "cell_type": "code",
            "execution_count": null,
            "metadata": {},
            "outputs": [],
            "source": [
                "df1.merge(df2,left_on=[\"Fee_Earner_Reference\"], right_on=\"feeref\",how=\"right\")"
            ]
        },
        {
            "cell_type": "code",
            "execution_count": null,
            "metadata": {},
            "outputs": [],
            "source": [
                "df1.merge(df2,left_on=\"Fee_Earner_Reference\", right_on=\"feeref\",how=\"left\")"
            ]
        },
        {
            "cell_type": "code",
            "execution_count": null,
            "metadata": {},
            "outputs": [],
            "source": [
                "df1.merge(df3,left_on=[\"Fee_Earner_Reference\",\"Matter_Dept_Dept_Name\"], right_on=[\"Fee_Earner_Reference1\",\"Matter_Dept_Dept_Name\"],how=\"left\")"
            ]
        }
    ],
    "metadata": {
        "interpreter": {
            "hash": "a939485bb373ad678e1a558495ad3107cec94476015fb9c3d3ae7675b0c9f01b"
        },
        "kernelspec": {
            "display_name": "Python 3.9.6 64-bit ('python_base': venv)",
            "name": "python3"
        },
        "language_info": {
            "codemirror_mode": {
                "name": "ipython",
                "version": 3
            },
            "file_extension": ".py",
            "mimetype": "text/x-python",
            "name": "python",
            "nbconvert_exporter": "python",
            "pygments_lexer": "ipython3",
            "version": "3.9.7"
        },
        "orig_nbformat": 4
    },
    "nbformat": 4,
    "nbformat_minor": 2
}
