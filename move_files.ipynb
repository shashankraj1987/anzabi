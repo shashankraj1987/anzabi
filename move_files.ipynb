{
 "cells": [
  {
   "cell_type": "code",
   "execution_count": null,
   "metadata": {},
   "outputs": [],
   "source": [
    "import os \n",
    "import shutil\n",
    "import re"
   ]
  },
  {
   "cell_type": "code",
   "execution_count": null,
   "metadata": {},
   "outputs": [],
   "source": [
    "#file_loc = \"/home/shashankraj/Documents/One_Drv_Anza/DATA_Dump/\"\n",
    "#file_loc = \"/home/shashankraj/Documents/DATA/extracted/\"\n",
    "\n",
    "os.system('clear')\n",
    "\n",
    "file_loc = input(\"Enter the location of the extracted files\")\n",
    "if os.path.exists(file_loc):\n",
    "    print(\"Analyzing Folder ... \")\n",
    "else: \n",
    "    raise FileNotFoundError(\"File not found in the location\")"
   ]
  },
  {
   "cell_type": "code",
   "execution_count": null,
   "metadata": {},
   "outputs": [],
   "source": [
    "def count_csv_files(fold_path):\n",
    "    if os.path.exists(fold_path):\n",
    "        count_csv = 0\n",
    "        count_xlsx = 0\n",
    "        for root,dirs,files in os.walk(fold_path):\n",
    "            count_csv+= len([f for f in files if f.endswith('.csv')])\n",
    "            count_xlsx+= len([f for f in files if f.endswith('.xlsx')])\n",
    "        print(\"{} has {} CSV files \".format(fold_path,count_csv))\n",
    "        print(\"{} has {} XLSX files \".format(fold_path,count_xlsx))\n",
    "\n",
    "    for name in os.listdir(fold_path):\n",
    "        path = os.path.join(fold_path,name)\n",
    "        #print(path)\n",
    "        if os.path.isdir(path):\n",
    "            count_csv_files(path)"
   ]
  },
  {
   "cell_type": "code",
   "execution_count": null,
   "metadata": {},
   "outputs": [],
   "source": [
    "count_csv_files(file_loc)"
   ]
  },
  {
   "cell_type": "code",
   "execution_count": null,
   "metadata": {},
   "outputs": [],
   "source": [
    "## Find all the CSV files in the Folder and Add them to the CSV List \n",
    "\n",
    "file = \"\"\n",
    "all_csvs = []\n",
    "all_xlsx = []\n",
    "all_others = []\n",
    "files = os.listdir(file_loc)\n",
    "\n",
    "for file in files:\n",
    "    if(file.endswith('.csv')):\n",
    "        all_csvs.append(file)\n",
    "    elif(file.endswith('.xlsx')):\n",
    "        all_xlsx.append(file)\n",
    "\n",
    "print(len(all_csvs))"
   ]
  },
  {
   "cell_type": "code",
   "execution_count": null,
   "metadata": {},
   "outputs": [],
   "source": [
    "## All folder list \n",
    "fees = []\n",
    "matters = []\n",
    "payments = []\n",
    "client = []\n",
    "\n",
    "## All Folder Location \n",
    "dest_fees = file_loc+\"/fees\"\n",
    "dest_matters = file_loc+\"/matters\"\n",
    "dest_payments = file_loc+\"/payments\"\n",
    "dest_clients = file_loc+\"/clients\"\n",
    "dest_fe = file_loc+\"/fe\"\n",
    "dest_excel = file_loc+\"/excel_files\""
   ]
  },
  {
   "cell_type": "code",
   "execution_count": null,
   "metadata": {},
   "outputs": [],
   "source": [
    "## Seggregating the Files. \n",
    "\n",
    "for file in all_csvs:\n",
    "    if len(re.compile(r'^Client').findall(file)) > 0:\n",
    "        client.append(file)\n",
    "    elif len(re.compile(r'^Fee').findall(file)) > 0:\n",
    "        fees.append(file)\n",
    "    elif len(re.compile(r'^Payment').findall(file)) > 0:\n",
    "        payments.append(file)\n",
    "    elif len(re.compile(r'^Matter').findall(file)) > 0:\n",
    "        matters.append(file)\n",
    "        "
   ]
  },
  {
   "cell_type": "code",
   "execution_count": null,
   "metadata": {},
   "outputs": [],
   "source": [
    "## Check if the Folders Exist otherwiese Create it\n",
    "\n",
    "fold_list = []\n",
    "fold_list = [dest_clients,dest_fe,dest_fees,dest_matters,dest_payments,dest_excel]\n",
    "\n",
    "for fold in fold_list:\n",
    "    if os.path.exists(fold):\n",
    "        print(\"{} already Exists in {}\".format(fold,file_loc))\n",
    "        continue\n",
    "    else: \n",
    "        os.mkdir(fold)\n",
    "        print(\"Creating Folder {} in {}\".format(fold,file_loc))\n"
   ]
  },
  {
   "cell_type": "code",
   "execution_count": null,
   "metadata": {},
   "outputs": [],
   "source": [
    "files = os.listdir(file_loc)\n",
    "\n",
    "for file in all_csvs:\n",
    "    src = file_loc+\"/\"+file\n",
    "    if file in client:\n",
    "        shutil.move(src,dest_clients)\n",
    "        print(\"Moved {} to {} \".format(file,dest_clients))\n",
    "    elif file in fees:\n",
    "        shutil.move(src,dest_fees)\n",
    "        print(\"Moved {} to {} \".format(file,dest_fees))\n",
    "    elif file in payments:\n",
    "        shutil.move(src,dest_payments)\n",
    "        print(\"Moved {} to {} \".format(file,dest_payments))\n",
    "    elif file in matters: \n",
    "        shutil.move(src,dest_matters)\n",
    "        print(\"Moved {} to {} \".format(file,dest_matters))\n",
    "    else:\n",
    "        shutil.move(src,dest_fe)\n",
    "        print(\"Moved {} to {} \".format(file,dest_fe))"
   ]
  },
  {
   "cell_type": "code",
   "execution_count": null,
   "metadata": {},
   "outputs": [],
   "source": [
    "## Move all Excel Files in One Folder \n",
    "\n",
    "for file in all_xlsx:\n",
    "    src = file_loc+\"/\"+file\n",
    "    shutil.move(src,dest_excel)\n",
    "    print(\"Moved {} to {} \".format(src,dest_excel))"
   ]
  }
 ],
 "metadata": {
  "interpreter": {
   "hash": "efeb6664015e98725bbb5b8b87814de131c81a1fd666b7e6d11b4ba6e020f0b0"
  },
  "kernelspec": {
   "display_name": "Python 3.10.0 64-bit ('venv': venv)",
   "language": "python",
   "name": "python3"
  },
  "language_info": {
   "codemirror_mode": {
    "name": "ipython",
    "version": 3
   },
   "file_extension": ".py",
   "mimetype": "text/x-python",
   "name": "python",
   "nbconvert_exporter": "python",
   "pygments_lexer": "ipython3",
   "version": "3.10.1"
  },
  "orig_nbformat": 4
 },
 "nbformat": 4,
 "nbformat_minor": 2
}
